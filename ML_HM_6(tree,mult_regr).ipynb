{
 "cells": [
  {
   "cell_type": "code",
   "execution_count": 483,
   "id": "a6fd2b8c",
   "metadata": {},
   "outputs": [
    {
     "data": {
      "text/html": [
       "<div>\n",
       "<style scoped>\n",
       "    .dataframe tbody tr th:only-of-type {\n",
       "        vertical-align: middle;\n",
       "    }\n",
       "\n",
       "    .dataframe tbody tr th {\n",
       "        vertical-align: top;\n",
       "    }\n",
       "\n",
       "    .dataframe thead th {\n",
       "        text-align: right;\n",
       "    }\n",
       "</style>\n",
       "<table border=\"1\" class=\"dataframe\">\n",
       "  <thead>\n",
       "    <tr style=\"text-align: right;\">\n",
       "      <th></th>\n",
       "      <th>MedInc</th>\n",
       "      <th>HouseAge</th>\n",
       "      <th>AveRooms</th>\n",
       "      <th>AveBedrms</th>\n",
       "      <th>Population</th>\n",
       "      <th>AveOccup</th>\n",
       "      <th>Latitude</th>\n",
       "      <th>Longitude</th>\n",
       "      <th>target</th>\n",
       "    </tr>\n",
       "  </thead>\n",
       "  <tbody>\n",
       "    <tr>\n",
       "      <th>0</th>\n",
       "      <td>8.3252</td>\n",
       "      <td>41.0</td>\n",
       "      <td>6.984127</td>\n",
       "      <td>1.023810</td>\n",
       "      <td>322.0</td>\n",
       "      <td>2.555556</td>\n",
       "      <td>37.88</td>\n",
       "      <td>-122.23</td>\n",
       "      <td>4.526</td>\n",
       "    </tr>\n",
       "    <tr>\n",
       "      <th>1</th>\n",
       "      <td>8.3014</td>\n",
       "      <td>21.0</td>\n",
       "      <td>6.238137</td>\n",
       "      <td>0.971880</td>\n",
       "      <td>2401.0</td>\n",
       "      <td>2.109842</td>\n",
       "      <td>37.86</td>\n",
       "      <td>-122.22</td>\n",
       "      <td>3.585</td>\n",
       "    </tr>\n",
       "    <tr>\n",
       "      <th>2</th>\n",
       "      <td>7.2574</td>\n",
       "      <td>52.0</td>\n",
       "      <td>8.288136</td>\n",
       "      <td>1.073446</td>\n",
       "      <td>496.0</td>\n",
       "      <td>2.802260</td>\n",
       "      <td>37.85</td>\n",
       "      <td>-122.24</td>\n",
       "      <td>3.521</td>\n",
       "    </tr>\n",
       "    <tr>\n",
       "      <th>3</th>\n",
       "      <td>5.6431</td>\n",
       "      <td>52.0</td>\n",
       "      <td>5.817352</td>\n",
       "      <td>1.073059</td>\n",
       "      <td>558.0</td>\n",
       "      <td>2.547945</td>\n",
       "      <td>37.85</td>\n",
       "      <td>-122.25</td>\n",
       "      <td>3.413</td>\n",
       "    </tr>\n",
       "    <tr>\n",
       "      <th>4</th>\n",
       "      <td>3.8462</td>\n",
       "      <td>52.0</td>\n",
       "      <td>6.281853</td>\n",
       "      <td>1.081081</td>\n",
       "      <td>565.0</td>\n",
       "      <td>2.181467</td>\n",
       "      <td>37.85</td>\n",
       "      <td>-122.25</td>\n",
       "      <td>3.422</td>\n",
       "    </tr>\n",
       "  </tbody>\n",
       "</table>\n",
       "</div>"
      ],
      "text/plain": [
       "   MedInc  HouseAge  AveRooms  AveBedrms  Population  AveOccup  Latitude   \n",
       "0  8.3252      41.0  6.984127   1.023810       322.0  2.555556     37.88  \\\n",
       "1  8.3014      21.0  6.238137   0.971880      2401.0  2.109842     37.86   \n",
       "2  7.2574      52.0  8.288136   1.073446       496.0  2.802260     37.85   \n",
       "3  5.6431      52.0  5.817352   1.073059       558.0  2.547945     37.85   \n",
       "4  3.8462      52.0  6.281853   1.081081       565.0  2.181467     37.85   \n",
       "\n",
       "   Longitude  target  \n",
       "0    -122.23   4.526  \n",
       "1    -122.22   3.585  \n",
       "2    -122.24   3.521  \n",
       "3    -122.25   3.413  \n",
       "4    -122.25   3.422  "
      ]
     },
     "execution_count": 483,
     "metadata": {},
     "output_type": "execute_result"
    }
   ],
   "source": [
    "# Завантажуємо бібліотеки\n",
    "import numpy as np\n",
    "import pandas as pd\n",
    "from sklearn.datasets import fetch_california_housing\n",
    "from sklearn.tree import DecisionTreeRegressor\n",
    "from sklearn.ensemble import RandomForestRegressor\n",
    "from sklearn.model_selection import train_test_split\n",
    "\n",
    "from sklearn.metrics import r2_score \n",
    "from sklearn.metrics import mean_absolute_error\n",
    "from sklearn.metrics import mean_squared_error\n",
    "\n",
    "import matplotlib.pyplot as plt\n",
    "import seaborn as sns\n",
    "\n",
    "data = 'california_housing.csv'\n",
    "df = pd.read_csv(data)\n",
    "df.head()"
   ]
  },
  {
   "cell_type": "code",
   "execution_count": 484,
   "id": "961d21f4",
   "metadata": {},
   "outputs": [
    {
     "data": {
      "text/plain": [
       "(20640, 9)"
      ]
     },
     "execution_count": 484,
     "metadata": {},
     "output_type": "execute_result"
    }
   ],
   "source": [
    "df.shape #розмір"
   ]
  },
  {
   "cell_type": "code",
   "execution_count": 485,
   "id": "84aa1958",
   "metadata": {
    "scrolled": true
   },
   "outputs": [
    {
     "data": {
      "text/plain": [
       "MedInc        0\n",
       "HouseAge      0\n",
       "AveRooms      0\n",
       "AveBedrms     0\n",
       "Population    0\n",
       "AveOccup      0\n",
       "Latitude      0\n",
       "Longitude     0\n",
       "target        0\n",
       "dtype: int64"
      ]
     },
     "execution_count": 485,
     "metadata": {},
     "output_type": "execute_result"
    }
   ],
   "source": [
    "df.isnull().sum() #NULL"
   ]
  },
  {
   "cell_type": "code",
   "execution_count": 249,
   "id": "f07c56e5",
   "metadata": {},
   "outputs": [
    {
     "data": {
      "text/plain": [
       "Index(['MedInc', 'HouseAge', 'AveRooms', 'AveBedrms', 'Population', 'AveOccup',\n",
       "       'Latitude', 'Longitude', 'target'],\n",
       "      dtype='object')"
      ]
     },
     "execution_count": 249,
     "metadata": {},
     "output_type": "execute_result"
    }
   ],
   "source": [
    "#перевіряємо чисельні колонки\n",
    "df.select_dtypes(np.number).columns"
   ]
  },
  {
   "cell_type": "code",
   "execution_count": 250,
   "id": "a8739299",
   "metadata": {},
   "outputs": [],
   "source": [
    "import plotly.express as px"
   ]
  },
  {
   "cell_type": "code",
   "execution_count": 337,
   "id": "822c12fe",
   "metadata": {},
   "outputs": [],
   "source": [
    "corr=df.corr()"
   ]
  },
  {
   "cell_type": "code",
   "execution_count": 251,
   "id": "aa5b42b9",
   "metadata": {},
   "outputs": [],
   "source": [
    "corr = corr.apply(lambda x: np.round(x,2)) #округлення до 2 знаку"
   ]
  },
  {
   "cell_type": "code",
   "execution_count": 252,
   "id": "6fdae679",
   "metadata": {},
   "outputs": [
    {
     "data": {
      "application/vnd.plotly.v1+json": {
       "config": {
        "plotlyServerURL": "https://plot.ly"
       },
       "data": [
        {
         "coloraxis": "coloraxis",
         "hovertemplate": "x: %{x}<br>y: %{y}<br>color: %{z}<extra></extra>",
         "name": "0",
         "texttemplate": "%{z}",
         "type": "heatmap",
         "x": [
          "MedInc",
          "HouseAge",
          "AveRooms",
          "AveBedrms",
          "Population",
          "AveOccup",
          "Latitude",
          "Longitude",
          "target"
         ],
         "xaxis": "x",
         "y": [
          "MedInc",
          "HouseAge",
          "AveRooms",
          "AveBedrms",
          "Population",
          "AveOccup",
          "Latitude",
          "Longitude",
          "target"
         ],
         "yaxis": "y",
         "z": [
          [
           1,
           -0.12,
           0.33,
           -0.06,
           0,
           0.02,
           -0.08,
           -0.02,
           0.69
          ],
          [
           -0.12,
           1,
           -0.15,
           -0.08,
           -0.3,
           0.01,
           0.01,
           -0.11,
           0.11
          ],
          [
           0.33,
           -0.15,
           1,
           0.85,
           -0.07,
           0,
           0.11,
           -0.03,
           0.15
          ],
          [
           -0.06,
           -0.08,
           0.85,
           1,
           -0.07,
           -0.01,
           0.07,
           0.01,
           -0.05
          ],
          [
           0,
           -0.3,
           -0.07,
           -0.07,
           1,
           0.07,
           -0.11,
           0.1,
           -0.02
          ],
          [
           0.02,
           0.01,
           0,
           -0.01,
           0.07,
           1,
           0,
           0,
           -0.02
          ],
          [
           -0.08,
           0.01,
           0.11,
           0.07,
           -0.11,
           0,
           1,
           -0.92,
           -0.14
          ],
          [
           -0.02,
           -0.11,
           -0.03,
           0.01,
           0.1,
           0,
           -0.92,
           1,
           -0.05
          ],
          [
           0.69,
           0.11,
           0.15,
           -0.05,
           -0.02,
           -0.02,
           -0.14,
           -0.05,
           1
          ]
         ]
        }
       ],
       "layout": {
        "coloraxis": {
         "colorscale": [
          [
           0,
           "#0d0887"
          ],
          [
           0.1111111111111111,
           "#46039f"
          ],
          [
           0.2222222222222222,
           "#7201a8"
          ],
          [
           0.3333333333333333,
           "#9c179e"
          ],
          [
           0.4444444444444444,
           "#bd3786"
          ],
          [
           0.5555555555555556,
           "#d8576b"
          ],
          [
           0.6666666666666666,
           "#ed7953"
          ],
          [
           0.7777777777777778,
           "#fb9f3a"
          ],
          [
           0.8888888888888888,
           "#fdca26"
          ],
          [
           1,
           "#f0f921"
          ]
         ]
        },
        "margin": {
         "t": 60
        },
        "template": {
         "data": {
          "bar": [
           {
            "error_x": {
             "color": "#2a3f5f"
            },
            "error_y": {
             "color": "#2a3f5f"
            },
            "marker": {
             "line": {
              "color": "#E5ECF6",
              "width": 0.5
             },
             "pattern": {
              "fillmode": "overlay",
              "size": 10,
              "solidity": 0.2
             }
            },
            "type": "bar"
           }
          ],
          "barpolar": [
           {
            "marker": {
             "line": {
              "color": "#E5ECF6",
              "width": 0.5
             },
             "pattern": {
              "fillmode": "overlay",
              "size": 10,
              "solidity": 0.2
             }
            },
            "type": "barpolar"
           }
          ],
          "carpet": [
           {
            "aaxis": {
             "endlinecolor": "#2a3f5f",
             "gridcolor": "white",
             "linecolor": "white",
             "minorgridcolor": "white",
             "startlinecolor": "#2a3f5f"
            },
            "baxis": {
             "endlinecolor": "#2a3f5f",
             "gridcolor": "white",
             "linecolor": "white",
             "minorgridcolor": "white",
             "startlinecolor": "#2a3f5f"
            },
            "type": "carpet"
           }
          ],
          "choropleth": [
           {
            "colorbar": {
             "outlinewidth": 0,
             "ticks": ""
            },
            "type": "choropleth"
           }
          ],
          "contour": [
           {
            "colorbar": {
             "outlinewidth": 0,
             "ticks": ""
            },
            "colorscale": [
             [
              0,
              "#0d0887"
             ],
             [
              0.1111111111111111,
              "#46039f"
             ],
             [
              0.2222222222222222,
              "#7201a8"
             ],
             [
              0.3333333333333333,
              "#9c179e"
             ],
             [
              0.4444444444444444,
              "#bd3786"
             ],
             [
              0.5555555555555556,
              "#d8576b"
             ],
             [
              0.6666666666666666,
              "#ed7953"
             ],
             [
              0.7777777777777778,
              "#fb9f3a"
             ],
             [
              0.8888888888888888,
              "#fdca26"
             ],
             [
              1,
              "#f0f921"
             ]
            ],
            "type": "contour"
           }
          ],
          "contourcarpet": [
           {
            "colorbar": {
             "outlinewidth": 0,
             "ticks": ""
            },
            "type": "contourcarpet"
           }
          ],
          "heatmap": [
           {
            "colorbar": {
             "outlinewidth": 0,
             "ticks": ""
            },
            "colorscale": [
             [
              0,
              "#0d0887"
             ],
             [
              0.1111111111111111,
              "#46039f"
             ],
             [
              0.2222222222222222,
              "#7201a8"
             ],
             [
              0.3333333333333333,
              "#9c179e"
             ],
             [
              0.4444444444444444,
              "#bd3786"
             ],
             [
              0.5555555555555556,
              "#d8576b"
             ],
             [
              0.6666666666666666,
              "#ed7953"
             ],
             [
              0.7777777777777778,
              "#fb9f3a"
             ],
             [
              0.8888888888888888,
              "#fdca26"
             ],
             [
              1,
              "#f0f921"
             ]
            ],
            "type": "heatmap"
           }
          ],
          "heatmapgl": [
           {
            "colorbar": {
             "outlinewidth": 0,
             "ticks": ""
            },
            "colorscale": [
             [
              0,
              "#0d0887"
             ],
             [
              0.1111111111111111,
              "#46039f"
             ],
             [
              0.2222222222222222,
              "#7201a8"
             ],
             [
              0.3333333333333333,
              "#9c179e"
             ],
             [
              0.4444444444444444,
              "#bd3786"
             ],
             [
              0.5555555555555556,
              "#d8576b"
             ],
             [
              0.6666666666666666,
              "#ed7953"
             ],
             [
              0.7777777777777778,
              "#fb9f3a"
             ],
             [
              0.8888888888888888,
              "#fdca26"
             ],
             [
              1,
              "#f0f921"
             ]
            ],
            "type": "heatmapgl"
           }
          ],
          "histogram": [
           {
            "marker": {
             "pattern": {
              "fillmode": "overlay",
              "size": 10,
              "solidity": 0.2
             }
            },
            "type": "histogram"
           }
          ],
          "histogram2d": [
           {
            "colorbar": {
             "outlinewidth": 0,
             "ticks": ""
            },
            "colorscale": [
             [
              0,
              "#0d0887"
             ],
             [
              0.1111111111111111,
              "#46039f"
             ],
             [
              0.2222222222222222,
              "#7201a8"
             ],
             [
              0.3333333333333333,
              "#9c179e"
             ],
             [
              0.4444444444444444,
              "#bd3786"
             ],
             [
              0.5555555555555556,
              "#d8576b"
             ],
             [
              0.6666666666666666,
              "#ed7953"
             ],
             [
              0.7777777777777778,
              "#fb9f3a"
             ],
             [
              0.8888888888888888,
              "#fdca26"
             ],
             [
              1,
              "#f0f921"
             ]
            ],
            "type": "histogram2d"
           }
          ],
          "histogram2dcontour": [
           {
            "colorbar": {
             "outlinewidth": 0,
             "ticks": ""
            },
            "colorscale": [
             [
              0,
              "#0d0887"
             ],
             [
              0.1111111111111111,
              "#46039f"
             ],
             [
              0.2222222222222222,
              "#7201a8"
             ],
             [
              0.3333333333333333,
              "#9c179e"
             ],
             [
              0.4444444444444444,
              "#bd3786"
             ],
             [
              0.5555555555555556,
              "#d8576b"
             ],
             [
              0.6666666666666666,
              "#ed7953"
             ],
             [
              0.7777777777777778,
              "#fb9f3a"
             ],
             [
              0.8888888888888888,
              "#fdca26"
             ],
             [
              1,
              "#f0f921"
             ]
            ],
            "type": "histogram2dcontour"
           }
          ],
          "mesh3d": [
           {
            "colorbar": {
             "outlinewidth": 0,
             "ticks": ""
            },
            "type": "mesh3d"
           }
          ],
          "parcoords": [
           {
            "line": {
             "colorbar": {
              "outlinewidth": 0,
              "ticks": ""
             }
            },
            "type": "parcoords"
           }
          ],
          "pie": [
           {
            "automargin": true,
            "type": "pie"
           }
          ],
          "scatter": [
           {
            "marker": {
             "colorbar": {
              "outlinewidth": 0,
              "ticks": ""
             }
            },
            "type": "scatter"
           }
          ],
          "scatter3d": [
           {
            "line": {
             "colorbar": {
              "outlinewidth": 0,
              "ticks": ""
             }
            },
            "marker": {
             "colorbar": {
              "outlinewidth": 0,
              "ticks": ""
             }
            },
            "type": "scatter3d"
           }
          ],
          "scattercarpet": [
           {
            "marker": {
             "colorbar": {
              "outlinewidth": 0,
              "ticks": ""
             }
            },
            "type": "scattercarpet"
           }
          ],
          "scattergeo": [
           {
            "marker": {
             "colorbar": {
              "outlinewidth": 0,
              "ticks": ""
             }
            },
            "type": "scattergeo"
           }
          ],
          "scattergl": [
           {
            "marker": {
             "colorbar": {
              "outlinewidth": 0,
              "ticks": ""
             }
            },
            "type": "scattergl"
           }
          ],
          "scattermapbox": [
           {
            "marker": {
             "colorbar": {
              "outlinewidth": 0,
              "ticks": ""
             }
            },
            "type": "scattermapbox"
           }
          ],
          "scatterpolar": [
           {
            "marker": {
             "colorbar": {
              "outlinewidth": 0,
              "ticks": ""
             }
            },
            "type": "scatterpolar"
           }
          ],
          "scatterpolargl": [
           {
            "marker": {
             "colorbar": {
              "outlinewidth": 0,
              "ticks": ""
             }
            },
            "type": "scatterpolargl"
           }
          ],
          "scatterternary": [
           {
            "marker": {
             "colorbar": {
              "outlinewidth": 0,
              "ticks": ""
             }
            },
            "type": "scatterternary"
           }
          ],
          "surface": [
           {
            "colorbar": {
             "outlinewidth": 0,
             "ticks": ""
            },
            "colorscale": [
             [
              0,
              "#0d0887"
             ],
             [
              0.1111111111111111,
              "#46039f"
             ],
             [
              0.2222222222222222,
              "#7201a8"
             ],
             [
              0.3333333333333333,
              "#9c179e"
             ],
             [
              0.4444444444444444,
              "#bd3786"
             ],
             [
              0.5555555555555556,
              "#d8576b"
             ],
             [
              0.6666666666666666,
              "#ed7953"
             ],
             [
              0.7777777777777778,
              "#fb9f3a"
             ],
             [
              0.8888888888888888,
              "#fdca26"
             ],
             [
              1,
              "#f0f921"
             ]
            ],
            "type": "surface"
           }
          ],
          "table": [
           {
            "cells": {
             "fill": {
              "color": "#EBF0F8"
             },
             "line": {
              "color": "white"
             }
            },
            "header": {
             "fill": {
              "color": "#C8D4E3"
             },
             "line": {
              "color": "white"
             }
            },
            "type": "table"
           }
          ]
         },
         "layout": {
          "annotationdefaults": {
           "arrowcolor": "#2a3f5f",
           "arrowhead": 0,
           "arrowwidth": 1
          },
          "autotypenumbers": "strict",
          "coloraxis": {
           "colorbar": {
            "outlinewidth": 0,
            "ticks": ""
           }
          },
          "colorscale": {
           "diverging": [
            [
             0,
             "#8e0152"
            ],
            [
             0.1,
             "#c51b7d"
            ],
            [
             0.2,
             "#de77ae"
            ],
            [
             0.3,
             "#f1b6da"
            ],
            [
             0.4,
             "#fde0ef"
            ],
            [
             0.5,
             "#f7f7f7"
            ],
            [
             0.6,
             "#e6f5d0"
            ],
            [
             0.7,
             "#b8e186"
            ],
            [
             0.8,
             "#7fbc41"
            ],
            [
             0.9,
             "#4d9221"
            ],
            [
             1,
             "#276419"
            ]
           ],
           "sequential": [
            [
             0,
             "#0d0887"
            ],
            [
             0.1111111111111111,
             "#46039f"
            ],
            [
             0.2222222222222222,
             "#7201a8"
            ],
            [
             0.3333333333333333,
             "#9c179e"
            ],
            [
             0.4444444444444444,
             "#bd3786"
            ],
            [
             0.5555555555555556,
             "#d8576b"
            ],
            [
             0.6666666666666666,
             "#ed7953"
            ],
            [
             0.7777777777777778,
             "#fb9f3a"
            ],
            [
             0.8888888888888888,
             "#fdca26"
            ],
            [
             1,
             "#f0f921"
            ]
           ],
           "sequentialminus": [
            [
             0,
             "#0d0887"
            ],
            [
             0.1111111111111111,
             "#46039f"
            ],
            [
             0.2222222222222222,
             "#7201a8"
            ],
            [
             0.3333333333333333,
             "#9c179e"
            ],
            [
             0.4444444444444444,
             "#bd3786"
            ],
            [
             0.5555555555555556,
             "#d8576b"
            ],
            [
             0.6666666666666666,
             "#ed7953"
            ],
            [
             0.7777777777777778,
             "#fb9f3a"
            ],
            [
             0.8888888888888888,
             "#fdca26"
            ],
            [
             1,
             "#f0f921"
            ]
           ]
          },
          "colorway": [
           "#636efa",
           "#EF553B",
           "#00cc96",
           "#ab63fa",
           "#FFA15A",
           "#19d3f3",
           "#FF6692",
           "#B6E880",
           "#FF97FF",
           "#FECB52"
          ],
          "font": {
           "color": "#2a3f5f"
          },
          "geo": {
           "bgcolor": "white",
           "lakecolor": "white",
           "landcolor": "#E5ECF6",
           "showlakes": true,
           "showland": true,
           "subunitcolor": "white"
          },
          "hoverlabel": {
           "align": "left"
          },
          "hovermode": "closest",
          "mapbox": {
           "style": "light"
          },
          "paper_bgcolor": "white",
          "plot_bgcolor": "#E5ECF6",
          "polar": {
           "angularaxis": {
            "gridcolor": "white",
            "linecolor": "white",
            "ticks": ""
           },
           "bgcolor": "#E5ECF6",
           "radialaxis": {
            "gridcolor": "white",
            "linecolor": "white",
            "ticks": ""
           }
          },
          "scene": {
           "xaxis": {
            "backgroundcolor": "#E5ECF6",
            "gridcolor": "white",
            "gridwidth": 2,
            "linecolor": "white",
            "showbackground": true,
            "ticks": "",
            "zerolinecolor": "white"
           },
           "yaxis": {
            "backgroundcolor": "#E5ECF6",
            "gridcolor": "white",
            "gridwidth": 2,
            "linecolor": "white",
            "showbackground": true,
            "ticks": "",
            "zerolinecolor": "white"
           },
           "zaxis": {
            "backgroundcolor": "#E5ECF6",
            "gridcolor": "white",
            "gridwidth": 2,
            "linecolor": "white",
            "showbackground": true,
            "ticks": "",
            "zerolinecolor": "white"
           }
          },
          "shapedefaults": {
           "line": {
            "color": "#2a3f5f"
           }
          },
          "ternary": {
           "aaxis": {
            "gridcolor": "white",
            "linecolor": "white",
            "ticks": ""
           },
           "baxis": {
            "gridcolor": "white",
            "linecolor": "white",
            "ticks": ""
           },
           "bgcolor": "#E5ECF6",
           "caxis": {
            "gridcolor": "white",
            "linecolor": "white",
            "ticks": ""
           }
          },
          "title": {
           "x": 0.05
          },
          "xaxis": {
           "automargin": true,
           "gridcolor": "white",
           "linecolor": "white",
           "ticks": "",
           "title": {
            "standoff": 15
           },
           "zerolinecolor": "white",
           "zerolinewidth": 2
          },
          "yaxis": {
           "automargin": true,
           "gridcolor": "white",
           "linecolor": "white",
           "ticks": "",
           "title": {
            "standoff": 15
           },
           "zerolinecolor": "white",
           "zerolinewidth": 2
          }
         }
        },
        "xaxis": {
         "anchor": "y",
         "constrain": "domain",
         "domain": [
          0,
          1
         ],
         "scaleanchor": "y"
        },
        "yaxis": {
         "anchor": "x",
         "autorange": "reversed",
         "constrain": "domain",
         "domain": [
          0,
          1
         ]
        }
       }
      },
      "text/html": [
       "<div>                            <div id=\"7bcc93aa-22b9-4858-9d17-6d79f80bd2c9\" class=\"plotly-graph-div\" style=\"height:525px; width:100%;\"></div>            <script type=\"text/javascript\">                require([\"plotly\"], function(Plotly) {                    window.PLOTLYENV=window.PLOTLYENV || {};                                    if (document.getElementById(\"7bcc93aa-22b9-4858-9d17-6d79f80bd2c9\")) {                    Plotly.newPlot(                        \"7bcc93aa-22b9-4858-9d17-6d79f80bd2c9\",                        [{\"coloraxis\":\"coloraxis\",\"name\":\"0\",\"texttemplate\":\"%{z}\",\"x\":[\"MedInc\",\"HouseAge\",\"AveRooms\",\"AveBedrms\",\"Population\",\"AveOccup\",\"Latitude\",\"Longitude\",\"target\"],\"y\":[\"MedInc\",\"HouseAge\",\"AveRooms\",\"AveBedrms\",\"Population\",\"AveOccup\",\"Latitude\",\"Longitude\",\"target\"],\"z\":[[1.0,-0.12,0.33,-0.06,0.0,0.02,-0.08,-0.02,0.69],[-0.12,1.0,-0.15,-0.08,-0.3,0.01,0.01,-0.11,0.11],[0.33,-0.15,1.0,0.85,-0.07,-0.0,0.11,-0.03,0.15],[-0.06,-0.08,0.85,1.0,-0.07,-0.01,0.07,0.01,-0.05],[0.0,-0.3,-0.07,-0.07,1.0,0.07,-0.11,0.1,-0.02],[0.02,0.01,-0.0,-0.01,0.07,1.0,0.0,0.0,-0.02],[-0.08,0.01,0.11,0.07,-0.11,0.0,1.0,-0.92,-0.14],[-0.02,-0.11,-0.03,0.01,0.1,0.0,-0.92,1.0,-0.05],[0.69,0.11,0.15,-0.05,-0.02,-0.02,-0.14,-0.05,1.0]],\"type\":\"heatmap\",\"xaxis\":\"x\",\"yaxis\":\"y\",\"hovertemplate\":\"x: %{x}<br>y: %{y}<br>color: %{z}<extra></extra>\"}],                        {\"template\":{\"data\":{\"bar\":[{\"error_x\":{\"color\":\"#2a3f5f\"},\"error_y\":{\"color\":\"#2a3f5f\"},\"marker\":{\"line\":{\"color\":\"#E5ECF6\",\"width\":0.5},\"pattern\":{\"fillmode\":\"overlay\",\"size\":10,\"solidity\":0.2}},\"type\":\"bar\"}],\"barpolar\":[{\"marker\":{\"line\":{\"color\":\"#E5ECF6\",\"width\":0.5},\"pattern\":{\"fillmode\":\"overlay\",\"size\":10,\"solidity\":0.2}},\"type\":\"barpolar\"}],\"carpet\":[{\"aaxis\":{\"endlinecolor\":\"#2a3f5f\",\"gridcolor\":\"white\",\"linecolor\":\"white\",\"minorgridcolor\":\"white\",\"startlinecolor\":\"#2a3f5f\"},\"baxis\":{\"endlinecolor\":\"#2a3f5f\",\"gridcolor\":\"white\",\"linecolor\":\"white\",\"minorgridcolor\":\"white\",\"startlinecolor\":\"#2a3f5f\"},\"type\":\"carpet\"}],\"choropleth\":[{\"colorbar\":{\"outlinewidth\":0,\"ticks\":\"\"},\"type\":\"choropleth\"}],\"contour\":[{\"colorbar\":{\"outlinewidth\":0,\"ticks\":\"\"},\"colorscale\":[[0.0,\"#0d0887\"],[0.1111111111111111,\"#46039f\"],[0.2222222222222222,\"#7201a8\"],[0.3333333333333333,\"#9c179e\"],[0.4444444444444444,\"#bd3786\"],[0.5555555555555556,\"#d8576b\"],[0.6666666666666666,\"#ed7953\"],[0.7777777777777778,\"#fb9f3a\"],[0.8888888888888888,\"#fdca26\"],[1.0,\"#f0f921\"]],\"type\":\"contour\"}],\"contourcarpet\":[{\"colorbar\":{\"outlinewidth\":0,\"ticks\":\"\"},\"type\":\"contourcarpet\"}],\"heatmap\":[{\"colorbar\":{\"outlinewidth\":0,\"ticks\":\"\"},\"colorscale\":[[0.0,\"#0d0887\"],[0.1111111111111111,\"#46039f\"],[0.2222222222222222,\"#7201a8\"],[0.3333333333333333,\"#9c179e\"],[0.4444444444444444,\"#bd3786\"],[0.5555555555555556,\"#d8576b\"],[0.6666666666666666,\"#ed7953\"],[0.7777777777777778,\"#fb9f3a\"],[0.8888888888888888,\"#fdca26\"],[1.0,\"#f0f921\"]],\"type\":\"heatmap\"}],\"heatmapgl\":[{\"colorbar\":{\"outlinewidth\":0,\"ticks\":\"\"},\"colorscale\":[[0.0,\"#0d0887\"],[0.1111111111111111,\"#46039f\"],[0.2222222222222222,\"#7201a8\"],[0.3333333333333333,\"#9c179e\"],[0.4444444444444444,\"#bd3786\"],[0.5555555555555556,\"#d8576b\"],[0.6666666666666666,\"#ed7953\"],[0.7777777777777778,\"#fb9f3a\"],[0.8888888888888888,\"#fdca26\"],[1.0,\"#f0f921\"]],\"type\":\"heatmapgl\"}],\"histogram\":[{\"marker\":{\"pattern\":{\"fillmode\":\"overlay\",\"size\":10,\"solidity\":0.2}},\"type\":\"histogram\"}],\"histogram2d\":[{\"colorbar\":{\"outlinewidth\":0,\"ticks\":\"\"},\"colorscale\":[[0.0,\"#0d0887\"],[0.1111111111111111,\"#46039f\"],[0.2222222222222222,\"#7201a8\"],[0.3333333333333333,\"#9c179e\"],[0.4444444444444444,\"#bd3786\"],[0.5555555555555556,\"#d8576b\"],[0.6666666666666666,\"#ed7953\"],[0.7777777777777778,\"#fb9f3a\"],[0.8888888888888888,\"#fdca26\"],[1.0,\"#f0f921\"]],\"type\":\"histogram2d\"}],\"histogram2dcontour\":[{\"colorbar\":{\"outlinewidth\":0,\"ticks\":\"\"},\"colorscale\":[[0.0,\"#0d0887\"],[0.1111111111111111,\"#46039f\"],[0.2222222222222222,\"#7201a8\"],[0.3333333333333333,\"#9c179e\"],[0.4444444444444444,\"#bd3786\"],[0.5555555555555556,\"#d8576b\"],[0.6666666666666666,\"#ed7953\"],[0.7777777777777778,\"#fb9f3a\"],[0.8888888888888888,\"#fdca26\"],[1.0,\"#f0f921\"]],\"type\":\"histogram2dcontour\"}],\"mesh3d\":[{\"colorbar\":{\"outlinewidth\":0,\"ticks\":\"\"},\"type\":\"mesh3d\"}],\"parcoords\":[{\"line\":{\"colorbar\":{\"outlinewidth\":0,\"ticks\":\"\"}},\"type\":\"parcoords\"}],\"pie\":[{\"automargin\":true,\"type\":\"pie\"}],\"scatter\":[{\"marker\":{\"colorbar\":{\"outlinewidth\":0,\"ticks\":\"\"}},\"type\":\"scatter\"}],\"scatter3d\":[{\"line\":{\"colorbar\":{\"outlinewidth\":0,\"ticks\":\"\"}},\"marker\":{\"colorbar\":{\"outlinewidth\":0,\"ticks\":\"\"}},\"type\":\"scatter3d\"}],\"scattercarpet\":[{\"marker\":{\"colorbar\":{\"outlinewidth\":0,\"ticks\":\"\"}},\"type\":\"scattercarpet\"}],\"scattergeo\":[{\"marker\":{\"colorbar\":{\"outlinewidth\":0,\"ticks\":\"\"}},\"type\":\"scattergeo\"}],\"scattergl\":[{\"marker\":{\"colorbar\":{\"outlinewidth\":0,\"ticks\":\"\"}},\"type\":\"scattergl\"}],\"scattermapbox\":[{\"marker\":{\"colorbar\":{\"outlinewidth\":0,\"ticks\":\"\"}},\"type\":\"scattermapbox\"}],\"scatterpolar\":[{\"marker\":{\"colorbar\":{\"outlinewidth\":0,\"ticks\":\"\"}},\"type\":\"scatterpolar\"}],\"scatterpolargl\":[{\"marker\":{\"colorbar\":{\"outlinewidth\":0,\"ticks\":\"\"}},\"type\":\"scatterpolargl\"}],\"scatterternary\":[{\"marker\":{\"colorbar\":{\"outlinewidth\":0,\"ticks\":\"\"}},\"type\":\"scatterternary\"}],\"surface\":[{\"colorbar\":{\"outlinewidth\":0,\"ticks\":\"\"},\"colorscale\":[[0.0,\"#0d0887\"],[0.1111111111111111,\"#46039f\"],[0.2222222222222222,\"#7201a8\"],[0.3333333333333333,\"#9c179e\"],[0.4444444444444444,\"#bd3786\"],[0.5555555555555556,\"#d8576b\"],[0.6666666666666666,\"#ed7953\"],[0.7777777777777778,\"#fb9f3a\"],[0.8888888888888888,\"#fdca26\"],[1.0,\"#f0f921\"]],\"type\":\"surface\"}],\"table\":[{\"cells\":{\"fill\":{\"color\":\"#EBF0F8\"},\"line\":{\"color\":\"white\"}},\"header\":{\"fill\":{\"color\":\"#C8D4E3\"},\"line\":{\"color\":\"white\"}},\"type\":\"table\"}]},\"layout\":{\"annotationdefaults\":{\"arrowcolor\":\"#2a3f5f\",\"arrowhead\":0,\"arrowwidth\":1},\"autotypenumbers\":\"strict\",\"coloraxis\":{\"colorbar\":{\"outlinewidth\":0,\"ticks\":\"\"}},\"colorscale\":{\"diverging\":[[0,\"#8e0152\"],[0.1,\"#c51b7d\"],[0.2,\"#de77ae\"],[0.3,\"#f1b6da\"],[0.4,\"#fde0ef\"],[0.5,\"#f7f7f7\"],[0.6,\"#e6f5d0\"],[0.7,\"#b8e186\"],[0.8,\"#7fbc41\"],[0.9,\"#4d9221\"],[1,\"#276419\"]],\"sequential\":[[0.0,\"#0d0887\"],[0.1111111111111111,\"#46039f\"],[0.2222222222222222,\"#7201a8\"],[0.3333333333333333,\"#9c179e\"],[0.4444444444444444,\"#bd3786\"],[0.5555555555555556,\"#d8576b\"],[0.6666666666666666,\"#ed7953\"],[0.7777777777777778,\"#fb9f3a\"],[0.8888888888888888,\"#fdca26\"],[1.0,\"#f0f921\"]],\"sequentialminus\":[[0.0,\"#0d0887\"],[0.1111111111111111,\"#46039f\"],[0.2222222222222222,\"#7201a8\"],[0.3333333333333333,\"#9c179e\"],[0.4444444444444444,\"#bd3786\"],[0.5555555555555556,\"#d8576b\"],[0.6666666666666666,\"#ed7953\"],[0.7777777777777778,\"#fb9f3a\"],[0.8888888888888888,\"#fdca26\"],[1.0,\"#f0f921\"]]},\"colorway\":[\"#636efa\",\"#EF553B\",\"#00cc96\",\"#ab63fa\",\"#FFA15A\",\"#19d3f3\",\"#FF6692\",\"#B6E880\",\"#FF97FF\",\"#FECB52\"],\"font\":{\"color\":\"#2a3f5f\"},\"geo\":{\"bgcolor\":\"white\",\"lakecolor\":\"white\",\"landcolor\":\"#E5ECF6\",\"showlakes\":true,\"showland\":true,\"subunitcolor\":\"white\"},\"hoverlabel\":{\"align\":\"left\"},\"hovermode\":\"closest\",\"mapbox\":{\"style\":\"light\"},\"paper_bgcolor\":\"white\",\"plot_bgcolor\":\"#E5ECF6\",\"polar\":{\"angularaxis\":{\"gridcolor\":\"white\",\"linecolor\":\"white\",\"ticks\":\"\"},\"bgcolor\":\"#E5ECF6\",\"radialaxis\":{\"gridcolor\":\"white\",\"linecolor\":\"white\",\"ticks\":\"\"}},\"scene\":{\"xaxis\":{\"backgroundcolor\":\"#E5ECF6\",\"gridcolor\":\"white\",\"gridwidth\":2,\"linecolor\":\"white\",\"showbackground\":true,\"ticks\":\"\",\"zerolinecolor\":\"white\"},\"yaxis\":{\"backgroundcolor\":\"#E5ECF6\",\"gridcolor\":\"white\",\"gridwidth\":2,\"linecolor\":\"white\",\"showbackground\":true,\"ticks\":\"\",\"zerolinecolor\":\"white\"},\"zaxis\":{\"backgroundcolor\":\"#E5ECF6\",\"gridcolor\":\"white\",\"gridwidth\":2,\"linecolor\":\"white\",\"showbackground\":true,\"ticks\":\"\",\"zerolinecolor\":\"white\"}},\"shapedefaults\":{\"line\":{\"color\":\"#2a3f5f\"}},\"ternary\":{\"aaxis\":{\"gridcolor\":\"white\",\"linecolor\":\"white\",\"ticks\":\"\"},\"baxis\":{\"gridcolor\":\"white\",\"linecolor\":\"white\",\"ticks\":\"\"},\"bgcolor\":\"#E5ECF6\",\"caxis\":{\"gridcolor\":\"white\",\"linecolor\":\"white\",\"ticks\":\"\"}},\"title\":{\"x\":0.05},\"xaxis\":{\"automargin\":true,\"gridcolor\":\"white\",\"linecolor\":\"white\",\"ticks\":\"\",\"title\":{\"standoff\":15},\"zerolinecolor\":\"white\",\"zerolinewidth\":2},\"yaxis\":{\"automargin\":true,\"gridcolor\":\"white\",\"linecolor\":\"white\",\"ticks\":\"\",\"title\":{\"standoff\":15},\"zerolinecolor\":\"white\",\"zerolinewidth\":2}}},\"xaxis\":{\"anchor\":\"y\",\"domain\":[0.0,1.0],\"scaleanchor\":\"y\",\"constrain\":\"domain\"},\"yaxis\":{\"anchor\":\"x\",\"domain\":[0.0,1.0],\"autorange\":\"reversed\",\"constrain\":\"domain\"},\"coloraxis\":{\"colorscale\":[[0.0,\"#0d0887\"],[0.1111111111111111,\"#46039f\"],[0.2222222222222222,\"#7201a8\"],[0.3333333333333333,\"#9c179e\"],[0.4444444444444444,\"#bd3786\"],[0.5555555555555556,\"#d8576b\"],[0.6666666666666666,\"#ed7953\"],[0.7777777777777778,\"#fb9f3a\"],[0.8888888888888888,\"#fdca26\"],[1.0,\"#f0f921\"]]},\"margin\":{\"t\":60}},                        {\"responsive\": true}                    ).then(function(){\n",
       "                            \n",
       "var gd = document.getElementById('7bcc93aa-22b9-4858-9d17-6d79f80bd2c9');\n",
       "var x = new MutationObserver(function (mutations, observer) {{\n",
       "        var display = window.getComputedStyle(gd).display;\n",
       "        if (!display || display === 'none') {{\n",
       "            console.log([gd, 'removed!']);\n",
       "            Plotly.purge(gd);\n",
       "            observer.disconnect();\n",
       "        }}\n",
       "}});\n",
       "\n",
       "// Listen for the removal of the full notebook cells\n",
       "var notebookContainer = gd.closest('#notebook-container');\n",
       "if (notebookContainer) {{\n",
       "    x.observe(notebookContainer, {childList: true});\n",
       "}}\n",
       "\n",
       "// Listen for the clearing of the current output cell\n",
       "var outputEl = gd.closest('.output');\n",
       "if (outputEl) {{\n",
       "    x.observe(outputEl, {childList: true});\n",
       "}}\n",
       "\n",
       "                        })                };                });            </script>        </div>"
      ]
     },
     "metadata": {},
     "output_type": "display_data"
    }
   ],
   "source": [
    "px.imshow(corr, x = corr.columns, y = corr.index,\n",
    "         text_auto=True)"
   ]
  },
  {
   "cell_type": "code",
   "execution_count": 253,
   "id": "d044f80f",
   "metadata": {
    "scrolled": false
   },
   "outputs": [
    {
     "data": {
      "text/html": [
       "<div>\n",
       "<style scoped>\n",
       "    .dataframe tbody tr th:only-of-type {\n",
       "        vertical-align: middle;\n",
       "    }\n",
       "\n",
       "    .dataframe tbody tr th {\n",
       "        vertical-align: top;\n",
       "    }\n",
       "\n",
       "    .dataframe thead th {\n",
       "        text-align: right;\n",
       "    }\n",
       "</style>\n",
       "<table border=\"1\" class=\"dataframe\">\n",
       "  <thead>\n",
       "    <tr style=\"text-align: right;\">\n",
       "      <th></th>\n",
       "      <th>MedInc</th>\n",
       "      <th>HouseAge</th>\n",
       "      <th>AveRooms</th>\n",
       "      <th>AveBedrms</th>\n",
       "      <th>Population</th>\n",
       "      <th>AveOccup</th>\n",
       "      <th>Latitude</th>\n",
       "      <th>Longitude</th>\n",
       "      <th>target</th>\n",
       "    </tr>\n",
       "  </thead>\n",
       "  <tbody>\n",
       "    <tr>\n",
       "      <th>MedInc</th>\n",
       "      <td>NaN</td>\n",
       "      <td>NaN</td>\n",
       "      <td>NaN</td>\n",
       "      <td>NaN</td>\n",
       "      <td>NaN</td>\n",
       "      <td>NaN</td>\n",
       "      <td>NaN</td>\n",
       "      <td>NaN</td>\n",
       "      <td>NaN</td>\n",
       "    </tr>\n",
       "    <tr>\n",
       "      <th>HouseAge</th>\n",
       "      <td>NaN</td>\n",
       "      <td>NaN</td>\n",
       "      <td>NaN</td>\n",
       "      <td>NaN</td>\n",
       "      <td>NaN</td>\n",
       "      <td>NaN</td>\n",
       "      <td>NaN</td>\n",
       "      <td>NaN</td>\n",
       "      <td>NaN</td>\n",
       "    </tr>\n",
       "    <tr>\n",
       "      <th>AveRooms</th>\n",
       "      <td>NaN</td>\n",
       "      <td>NaN</td>\n",
       "      <td>NaN</td>\n",
       "      <td>0.85</td>\n",
       "      <td>NaN</td>\n",
       "      <td>NaN</td>\n",
       "      <td>NaN</td>\n",
       "      <td>NaN</td>\n",
       "      <td>NaN</td>\n",
       "    </tr>\n",
       "    <tr>\n",
       "      <th>AveBedrms</th>\n",
       "      <td>NaN</td>\n",
       "      <td>NaN</td>\n",
       "      <td>0.85</td>\n",
       "      <td>NaN</td>\n",
       "      <td>NaN</td>\n",
       "      <td>NaN</td>\n",
       "      <td>NaN</td>\n",
       "      <td>NaN</td>\n",
       "      <td>NaN</td>\n",
       "    </tr>\n",
       "    <tr>\n",
       "      <th>Population</th>\n",
       "      <td>NaN</td>\n",
       "      <td>NaN</td>\n",
       "      <td>NaN</td>\n",
       "      <td>NaN</td>\n",
       "      <td>NaN</td>\n",
       "      <td>NaN</td>\n",
       "      <td>NaN</td>\n",
       "      <td>NaN</td>\n",
       "      <td>NaN</td>\n",
       "    </tr>\n",
       "    <tr>\n",
       "      <th>AveOccup</th>\n",
       "      <td>NaN</td>\n",
       "      <td>NaN</td>\n",
       "      <td>NaN</td>\n",
       "      <td>NaN</td>\n",
       "      <td>NaN</td>\n",
       "      <td>NaN</td>\n",
       "      <td>NaN</td>\n",
       "      <td>NaN</td>\n",
       "      <td>NaN</td>\n",
       "    </tr>\n",
       "    <tr>\n",
       "      <th>Latitude</th>\n",
       "      <td>NaN</td>\n",
       "      <td>NaN</td>\n",
       "      <td>NaN</td>\n",
       "      <td>NaN</td>\n",
       "      <td>NaN</td>\n",
       "      <td>NaN</td>\n",
       "      <td>NaN</td>\n",
       "      <td>-0.92</td>\n",
       "      <td>NaN</td>\n",
       "    </tr>\n",
       "    <tr>\n",
       "      <th>Longitude</th>\n",
       "      <td>NaN</td>\n",
       "      <td>NaN</td>\n",
       "      <td>NaN</td>\n",
       "      <td>NaN</td>\n",
       "      <td>NaN</td>\n",
       "      <td>NaN</td>\n",
       "      <td>-0.92</td>\n",
       "      <td>NaN</td>\n",
       "      <td>NaN</td>\n",
       "    </tr>\n",
       "    <tr>\n",
       "      <th>target</th>\n",
       "      <td>NaN</td>\n",
       "      <td>NaN</td>\n",
       "      <td>NaN</td>\n",
       "      <td>NaN</td>\n",
       "      <td>NaN</td>\n",
       "      <td>NaN</td>\n",
       "      <td>NaN</td>\n",
       "      <td>NaN</td>\n",
       "      <td>NaN</td>\n",
       "    </tr>\n",
       "  </tbody>\n",
       "</table>\n",
       "</div>"
      ],
      "text/plain": [
       "            MedInc  HouseAge  AveRooms  AveBedrms  Population  AveOccup   \n",
       "MedInc         NaN       NaN       NaN        NaN         NaN       NaN  \\\n",
       "HouseAge       NaN       NaN       NaN        NaN         NaN       NaN   \n",
       "AveRooms       NaN       NaN       NaN       0.85         NaN       NaN   \n",
       "AveBedrms      NaN       NaN      0.85        NaN         NaN       NaN   \n",
       "Population     NaN       NaN       NaN        NaN         NaN       NaN   \n",
       "AveOccup       NaN       NaN       NaN        NaN         NaN       NaN   \n",
       "Latitude       NaN       NaN       NaN        NaN         NaN       NaN   \n",
       "Longitude      NaN       NaN       NaN        NaN         NaN       NaN   \n",
       "target         NaN       NaN       NaN        NaN         NaN       NaN   \n",
       "\n",
       "            Latitude  Longitude  target  \n",
       "MedInc           NaN        NaN     NaN  \n",
       "HouseAge         NaN        NaN     NaN  \n",
       "AveRooms         NaN        NaN     NaN  \n",
       "AveBedrms        NaN        NaN     NaN  \n",
       "Population       NaN        NaN     NaN  \n",
       "AveOccup         NaN        NaN     NaN  \n",
       "Latitude         NaN      -0.92     NaN  \n",
       "Longitude      -0.92        NaN     NaN  \n",
       "target           NaN        NaN     NaN  "
      ]
     },
     "execution_count": 253,
     "metadata": {},
     "output_type": "execute_result"
    }
   ],
   "source": [
    "corr[((corr>0.7)|(corr<-0.7)) & (corr != 1)]"
   ]
  },
  {
   "cell_type": "code",
   "execution_count": 254,
   "id": "5571246d",
   "metadata": {},
   "outputs": [
    {
     "data": {
      "text/plain": [
       "['AveBedrms', 'Longitude']"
      ]
     },
     "execution_count": 254,
     "metadata": {},
     "output_type": "execute_result"
    }
   ],
   "source": [
    "to_drop = ['AveBedrms','Longitude'] # висока кореляція між признаками 'AveBedrms','Longitude'\n",
    "to_drop"
   ]
  },
  {
   "cell_type": "code",
   "execution_count": 255,
   "id": "3c912902",
   "metadata": {},
   "outputs": [
    {
     "data": {
      "text/plain": [
       "MedInc        0.69\n",
       "HouseAge      0.11\n",
       "AveRooms      0.15\n",
       "AveBedrms    -0.05\n",
       "Population   -0.02\n",
       "AveOccup     -0.02\n",
       "Latitude     -0.14\n",
       "Longitude    -0.05\n",
       "target        1.00\n",
       "Name: target, dtype: float64"
      ]
     },
     "execution_count": 255,
     "metadata": {},
     "output_type": "execute_result"
    }
   ],
   "source": [
    "corr_price = corr['target']\n",
    "corr_price # 'MedInc і має найбільший вплив на target"
   ]
  },
  {
   "cell_type": "code",
   "execution_count": 256,
   "id": "2cc46071",
   "metadata": {},
   "outputs": [
    {
     "data": {
      "text/plain": [
       "MedInc        3.609323e+00\n",
       "HouseAge      1.583963e+02\n",
       "AveRooms      6.121533e+00\n",
       "AveBedrms     2.245915e-01\n",
       "Population    1.282470e+06\n",
       "AveOccup      1.078700e+02\n",
       "Latitude      4.562293e+00\n",
       "Longitude     4.014139e+00\n",
       "target        1.331615e+00\n",
       "dtype: float64"
      ]
     },
     "execution_count": 256,
     "metadata": {},
     "output_type": "execute_result"
    }
   ],
   "source": [
    "df.select_dtypes(include=np.number).var() #дисперсія"
   ]
  },
  {
   "cell_type": "code",
   "execution_count": 351,
   "id": "9632d3ec",
   "metadata": {},
   "outputs": [],
   "source": [
    "x = df[df.columns.drop(to_drop+['target'])] #видаляємо тільки 2 признака з високою креляцію між собою\n",
    "y = df['target']\n"
   ]
  },
  {
   "cell_type": "code",
   "execution_count": 352,
   "id": "88c9c975",
   "metadata": {},
   "outputs": [],
   "source": [
    "from sklearn.model_selection import train_test_split\n",
    "x_train, x_test, y_train, y_test = train_test_split(x,y,\n",
    "                                                   test_size=0.2)"
   ]
  },
  {
   "cell_type": "markdown",
   "id": "c66b72e6",
   "metadata": {},
   "source": [
    "Проведемо стандартизацію признаків"
   ]
  },
  {
   "cell_type": "code",
   "execution_count": 315,
   "id": "dfd0d416",
   "metadata": {},
   "outputs": [
    {
     "data": {
      "text/html": [
       "<div>\n",
       "<style scoped>\n",
       "    .dataframe tbody tr th:only-of-type {\n",
       "        vertical-align: middle;\n",
       "    }\n",
       "\n",
       "    .dataframe tbody tr th {\n",
       "        vertical-align: top;\n",
       "    }\n",
       "\n",
       "    .dataframe thead th {\n",
       "        text-align: right;\n",
       "    }\n",
       "</style>\n",
       "<table border=\"1\" class=\"dataframe\">\n",
       "  <thead>\n",
       "    <tr style=\"text-align: right;\">\n",
       "      <th></th>\n",
       "      <th>MedInc</th>\n",
       "      <th>HouseAge</th>\n",
       "      <th>AveRooms</th>\n",
       "      <th>Population</th>\n",
       "      <th>AveOccup</th>\n",
       "      <th>Latitude</th>\n",
       "    </tr>\n",
       "  </thead>\n",
       "  <tbody>\n",
       "    <tr>\n",
       "      <th>count</th>\n",
       "      <td>16512.000000</td>\n",
       "      <td>16512.000000</td>\n",
       "      <td>16512.000000</td>\n",
       "      <td>16512.000000</td>\n",
       "      <td>16512.000000</td>\n",
       "      <td>16512.000000</td>\n",
       "    </tr>\n",
       "    <tr>\n",
       "      <th>mean</th>\n",
       "      <td>3.867585</td>\n",
       "      <td>28.727592</td>\n",
       "      <td>5.419226</td>\n",
       "      <td>1422.205426</td>\n",
       "      <td>3.086795</td>\n",
       "      <td>35.625657</td>\n",
       "    </tr>\n",
       "    <tr>\n",
       "      <th>std</th>\n",
       "      <td>1.905761</td>\n",
       "      <td>12.604076</td>\n",
       "      <td>2.488362</td>\n",
       "      <td>1132.002642</td>\n",
       "      <td>11.442433</td>\n",
       "      <td>2.132879</td>\n",
       "    </tr>\n",
       "    <tr>\n",
       "      <th>min</th>\n",
       "      <td>0.499900</td>\n",
       "      <td>1.000000</td>\n",
       "      <td>0.888889</td>\n",
       "      <td>3.000000</td>\n",
       "      <td>0.692308</td>\n",
       "      <td>32.540000</td>\n",
       "    </tr>\n",
       "    <tr>\n",
       "      <th>25%</th>\n",
       "      <td>2.555825</td>\n",
       "      <td>18.000000</td>\n",
       "      <td>4.440932</td>\n",
       "      <td>785.000000</td>\n",
       "      <td>2.430375</td>\n",
       "      <td>33.930000</td>\n",
       "    </tr>\n",
       "    <tr>\n",
       "      <th>50%</th>\n",
       "      <td>3.540050</td>\n",
       "      <td>29.000000</td>\n",
       "      <td>5.232342</td>\n",
       "      <td>1166.000000</td>\n",
       "      <td>2.821158</td>\n",
       "      <td>34.260000</td>\n",
       "    </tr>\n",
       "    <tr>\n",
       "      <th>75%</th>\n",
       "      <td>4.739375</td>\n",
       "      <td>37.000000</td>\n",
       "      <td>6.047619</td>\n",
       "      <td>1725.000000</td>\n",
       "      <td>3.283921</td>\n",
       "      <td>37.710000</td>\n",
       "    </tr>\n",
       "    <tr>\n",
       "      <th>max</th>\n",
       "      <td>15.000100</td>\n",
       "      <td>52.000000</td>\n",
       "      <td>141.909091</td>\n",
       "      <td>35682.000000</td>\n",
       "      <td>1243.333333</td>\n",
       "      <td>41.950000</td>\n",
       "    </tr>\n",
       "  </tbody>\n",
       "</table>\n",
       "</div>"
      ],
      "text/plain": [
       "             MedInc      HouseAge      AveRooms    Population      AveOccup   \n",
       "count  16512.000000  16512.000000  16512.000000  16512.000000  16512.000000  \\\n",
       "mean       3.867585     28.727592      5.419226   1422.205426      3.086795   \n",
       "std        1.905761     12.604076      2.488362   1132.002642     11.442433   \n",
       "min        0.499900      1.000000      0.888889      3.000000      0.692308   \n",
       "25%        2.555825     18.000000      4.440932    785.000000      2.430375   \n",
       "50%        3.540050     29.000000      5.232342   1166.000000      2.821158   \n",
       "75%        4.739375     37.000000      6.047619   1725.000000      3.283921   \n",
       "max       15.000100     52.000000    141.909091  35682.000000   1243.333333   \n",
       "\n",
       "           Latitude  \n",
       "count  16512.000000  \n",
       "mean      35.625657  \n",
       "std        2.132879  \n",
       "min       32.540000  \n",
       "25%       33.930000  \n",
       "50%       34.260000  \n",
       "75%       37.710000  \n",
       "max       41.950000  "
      ]
     },
     "execution_count": 315,
     "metadata": {},
     "output_type": "execute_result"
    }
   ],
   "source": [
    "x_train.describe()"
   ]
  },
  {
   "cell_type": "code",
   "execution_count": 316,
   "id": "f4da4d9e",
   "metadata": {},
   "outputs": [],
   "source": [
    "from sklearn.preprocessing import StandardScaler"
   ]
  },
  {
   "cell_type": "code",
   "execution_count": 353,
   "id": "721920b0",
   "metadata": {},
   "outputs": [
    {
     "data": {
      "text/plain": [
       "StandardScaler()"
      ]
     },
     "execution_count": 353,
     "metadata": {},
     "output_type": "execute_result"
    }
   ],
   "source": [
    "scaler = StandardScaler()\n",
    "scaler.fit(x_train)"
   ]
  },
  {
   "cell_type": "code",
   "execution_count": 320,
   "id": "4fecd5f5",
   "metadata": {},
   "outputs": [
    {
     "data": {
      "text/plain": [
       "array([   3.8675851 ,   28.72759205,    5.41922608, 1422.20542636,\n",
       "          3.08679544,   35.6256571 ])"
      ]
     },
     "execution_count": 320,
     "metadata": {},
     "output_type": "execute_result"
    }
   ],
   "source": [
    "scaler.mean_ #такі ж значення як і в x_train.describe()"
   ]
  },
  {
   "cell_type": "code",
   "execution_count": 321,
   "id": "53b738d0",
   "metadata": {},
   "outputs": [
    {
     "data": {
      "text/plain": [
       "array([      3.63170323,     158.85311949,       6.19156815,\n",
       "       1281352.37628354,     130.9213509 ,       4.54889845])"
      ]
     },
     "execution_count": 321,
     "metadata": {},
     "output_type": "execute_result"
    }
   ],
   "source": [
    "scaler.var_ #такі ж значення як і в x_train.describe()"
   ]
  },
  {
   "cell_type": "code",
   "execution_count": 354,
   "id": "e8dfa789",
   "metadata": {
    "scrolled": true
   },
   "outputs": [
    {
     "data": {
      "text/html": [
       "<div>\n",
       "<style scoped>\n",
       "    .dataframe tbody tr th:only-of-type {\n",
       "        vertical-align: middle;\n",
       "    }\n",
       "\n",
       "    .dataframe tbody tr th {\n",
       "        vertical-align: top;\n",
       "    }\n",
       "\n",
       "    .dataframe thead th {\n",
       "        text-align: right;\n",
       "    }\n",
       "</style>\n",
       "<table border=\"1\" class=\"dataframe\">\n",
       "  <thead>\n",
       "    <tr style=\"text-align: right;\">\n",
       "      <th></th>\n",
       "      <th>MedInc</th>\n",
       "      <th>HouseAge</th>\n",
       "      <th>AveRooms</th>\n",
       "      <th>Population</th>\n",
       "      <th>AveOccup</th>\n",
       "      <th>Latitude</th>\n",
       "    </tr>\n",
       "  </thead>\n",
       "  <tbody>\n",
       "    <tr>\n",
       "      <th>count</th>\n",
       "      <td>1.651200e+04</td>\n",
       "      <td>1.651200e+04</td>\n",
       "      <td>1.651200e+04</td>\n",
       "      <td>1.651200e+04</td>\n",
       "      <td>1.651200e+04</td>\n",
       "      <td>1.651200e+04</td>\n",
       "    </tr>\n",
       "    <tr>\n",
       "      <th>mean</th>\n",
       "      <td>2.426999e-16</td>\n",
       "      <td>-6.583881e-17</td>\n",
       "      <td>2.132231e-16</td>\n",
       "      <td>8.896845e-17</td>\n",
       "      <td>9.830100e-18</td>\n",
       "      <td>1.732384e-15</td>\n",
       "    </tr>\n",
       "    <tr>\n",
       "      <th>std</th>\n",
       "      <td>1.000030e+00</td>\n",
       "      <td>1.000030e+00</td>\n",
       "      <td>1.000030e+00</td>\n",
       "      <td>1.000030e+00</td>\n",
       "      <td>1.000030e+00</td>\n",
       "      <td>1.000030e+00</td>\n",
       "    </tr>\n",
       "    <tr>\n",
       "      <th>min</th>\n",
       "      <td>-1.775369e+00</td>\n",
       "      <td>-2.203155e+00</td>\n",
       "      <td>-1.898984e+00</td>\n",
       "      <td>-1.268705e+00</td>\n",
       "      <td>-2.173315e-01</td>\n",
       "      <td>-1.446525e+00</td>\n",
       "    </tr>\n",
       "    <tr>\n",
       "      <th>25%</th>\n",
       "      <td>-6.898122e-01</td>\n",
       "      <td>-8.521564e-01</td>\n",
       "      <td>-4.113153e-01</td>\n",
       "      <td>-5.678676e-01</td>\n",
       "      <td>-5.810007e-02</td>\n",
       "      <td>-7.986849e-01</td>\n",
       "    </tr>\n",
       "    <tr>\n",
       "      <th>50%</th>\n",
       "      <td>-1.811046e-01</td>\n",
       "      <td>2.201899e-02</td>\n",
       "      <td>-8.634425e-02</td>\n",
       "      <td>-2.286373e-01</td>\n",
       "      <td>-2.302505e-02</td>\n",
       "      <td>-6.448811e-01</td>\n",
       "    </tr>\n",
       "    <tr>\n",
       "      <th>75%</th>\n",
       "      <td>4.624289e-01</td>\n",
       "      <td>6.577829e-01</td>\n",
       "      <td>2.590713e-01</td>\n",
       "      <td>2.717050e-01</td>\n",
       "      <td>1.916660e-02</td>\n",
       "      <td>9.677286e-01</td>\n",
       "    </tr>\n",
       "    <tr>\n",
       "      <th>max</th>\n",
       "      <td>5.844248e+00</td>\n",
       "      <td>1.849840e+00</td>\n",
       "      <td>5.645546e+01</td>\n",
       "      <td>3.066370e+01</td>\n",
       "      <td>1.135164e+02</td>\n",
       "      <td>2.939214e+00</td>\n",
       "    </tr>\n",
       "  </tbody>\n",
       "</table>\n",
       "</div>"
      ],
      "text/plain": [
       "             MedInc      HouseAge      AveRooms    Population      AveOccup   \n",
       "count  1.651200e+04  1.651200e+04  1.651200e+04  1.651200e+04  1.651200e+04  \\\n",
       "mean   2.426999e-16 -6.583881e-17  2.132231e-16  8.896845e-17  9.830100e-18   \n",
       "std    1.000030e+00  1.000030e+00  1.000030e+00  1.000030e+00  1.000030e+00   \n",
       "min   -1.775369e+00 -2.203155e+00 -1.898984e+00 -1.268705e+00 -2.173315e-01   \n",
       "25%   -6.898122e-01 -8.521564e-01 -4.113153e-01 -5.678676e-01 -5.810007e-02   \n",
       "50%   -1.811046e-01  2.201899e-02 -8.634425e-02 -2.286373e-01 -2.302505e-02   \n",
       "75%    4.624289e-01  6.577829e-01  2.590713e-01  2.717050e-01  1.916660e-02   \n",
       "max    5.844248e+00  1.849840e+00  5.645546e+01  3.066370e+01  1.135164e+02   \n",
       "\n",
       "           Latitude  \n",
       "count  1.651200e+04  \n",
       "mean   1.732384e-15  \n",
       "std    1.000030e+00  \n",
       "min   -1.446525e+00  \n",
       "25%   -7.986849e-01  \n",
       "50%   -6.448811e-01  \n",
       "75%    9.677286e-01  \n",
       "max    2.939214e+00  "
      ]
     },
     "execution_count": 354,
     "metadata": {},
     "output_type": "execute_result"
    }
   ],
   "source": [
    "x_train_std=pd.DataFrame(scaler.transform(x_train), columns=x_train.columns)\n",
    "x_train_std.describe()"
   ]
  },
  {
   "cell_type": "code",
   "execution_count": 341,
   "id": "23d4608a",
   "metadata": {},
   "outputs": [
    {
     "data": {
      "text/html": [
       "<div>\n",
       "<style scoped>\n",
       "    .dataframe tbody tr th:only-of-type {\n",
       "        vertical-align: middle;\n",
       "    }\n",
       "\n",
       "    .dataframe tbody tr th {\n",
       "        vertical-align: top;\n",
       "    }\n",
       "\n",
       "    .dataframe thead th {\n",
       "        text-align: right;\n",
       "    }\n",
       "</style>\n",
       "<table border=\"1\" class=\"dataframe\">\n",
       "  <thead>\n",
       "    <tr style=\"text-align: right;\">\n",
       "      <th></th>\n",
       "      <th>MedInc</th>\n",
       "      <th>HouseAge</th>\n",
       "      <th>AveRooms</th>\n",
       "      <th>Population</th>\n",
       "      <th>AveOccup</th>\n",
       "      <th>Latitude</th>\n",
       "    </tr>\n",
       "  </thead>\n",
       "  <tbody>\n",
       "    <tr>\n",
       "      <th>count</th>\n",
       "      <td>16512.0000</td>\n",
       "      <td>16512.0000</td>\n",
       "      <td>16512.0000</td>\n",
       "      <td>16512.0000</td>\n",
       "      <td>16512.0000</td>\n",
       "      <td>16512.0000</td>\n",
       "    </tr>\n",
       "    <tr>\n",
       "      <th>mean</th>\n",
       "      <td>-0.0000</td>\n",
       "      <td>-0.0000</td>\n",
       "      <td>0.0000</td>\n",
       "      <td>-0.0000</td>\n",
       "      <td>-0.0000</td>\n",
       "      <td>0.0000</td>\n",
       "    </tr>\n",
       "    <tr>\n",
       "      <th>std</th>\n",
       "      <td>1.0000</td>\n",
       "      <td>1.0000</td>\n",
       "      <td>1.0000</td>\n",
       "      <td>1.0000</td>\n",
       "      <td>1.0000</td>\n",
       "      <td>1.0000</td>\n",
       "    </tr>\n",
       "    <tr>\n",
       "      <th>min</th>\n",
       "      <td>-1.7672</td>\n",
       "      <td>-2.2000</td>\n",
       "      <td>-1.8207</td>\n",
       "      <td>-1.2538</td>\n",
       "      <td>-0.2093</td>\n",
       "      <td>-1.4468</td>\n",
       "    </tr>\n",
       "    <tr>\n",
       "      <th>25%</th>\n",
       "      <td>-0.6883</td>\n",
       "      <td>-0.8511</td>\n",
       "      <td>-0.3932</td>\n",
       "      <td>-0.5629</td>\n",
       "      <td>-0.0574</td>\n",
       "      <td>-0.7950</td>\n",
       "    </tr>\n",
       "    <tr>\n",
       "      <th>50%</th>\n",
       "      <td>-0.1719</td>\n",
       "      <td>0.0216</td>\n",
       "      <td>-0.0751</td>\n",
       "      <td>-0.2263</td>\n",
       "      <td>-0.0232</td>\n",
       "      <td>-0.6403</td>\n",
       "    </tr>\n",
       "    <tr>\n",
       "      <th>75%</th>\n",
       "      <td>0.4575</td>\n",
       "      <td>0.6563</td>\n",
       "      <td>0.2525</td>\n",
       "      <td>0.2675</td>\n",
       "      <td>0.0172</td>\n",
       "      <td>0.9773</td>\n",
       "    </tr>\n",
       "    <tr>\n",
       "      <th>max</th>\n",
       "      <td>5.8417</td>\n",
       "      <td>1.8465</td>\n",
       "      <td>54.8530</td>\n",
       "      <td>30.2657</td>\n",
       "      <td>108.3934</td>\n",
       "      <td>2.9653</td>\n",
       "    </tr>\n",
       "  </tbody>\n",
       "</table>\n",
       "</div>"
      ],
      "text/plain": [
       "           MedInc    HouseAge    AveRooms  Population    AveOccup    Latitude\n",
       "count  16512.0000  16512.0000  16512.0000  16512.0000  16512.0000  16512.0000\n",
       "mean      -0.0000     -0.0000      0.0000     -0.0000     -0.0000      0.0000\n",
       "std        1.0000      1.0000      1.0000      1.0000      1.0000      1.0000\n",
       "min       -1.7672     -2.2000     -1.8207     -1.2538     -0.2093     -1.4468\n",
       "25%       -0.6883     -0.8511     -0.3932     -0.5629     -0.0574     -0.7950\n",
       "50%       -0.1719      0.0216     -0.0751     -0.2263     -0.0232     -0.6403\n",
       "75%        0.4575      0.6563      0.2525      0.2675      0.0172      0.9773\n",
       "max        5.8417      1.8465     54.8530     30.2657    108.3934      2.9653"
      ]
     },
     "execution_count": 341,
     "metadata": {},
     "output_type": "execute_result"
    }
   ],
   "source": [
    "x_train_std.describe().apply(lambda x: np.round(x,4)) #округлення до 2 знаку, для кращого вигляду"
   ]
  },
  {
   "cell_type": "code",
   "execution_count": 355,
   "id": "a6249a33",
   "metadata": {},
   "outputs": [
    {
     "data": {
      "text/html": [
       "<div>\n",
       "<style scoped>\n",
       "    .dataframe tbody tr th:only-of-type {\n",
       "        vertical-align: middle;\n",
       "    }\n",
       "\n",
       "    .dataframe tbody tr th {\n",
       "        vertical-align: top;\n",
       "    }\n",
       "\n",
       "    .dataframe thead th {\n",
       "        text-align: right;\n",
       "    }\n",
       "</style>\n",
       "<table border=\"1\" class=\"dataframe\">\n",
       "  <thead>\n",
       "    <tr style=\"text-align: right;\">\n",
       "      <th></th>\n",
       "      <th>MedInc</th>\n",
       "      <th>HouseAge</th>\n",
       "      <th>AveRooms</th>\n",
       "      <th>Population</th>\n",
       "      <th>AveOccup</th>\n",
       "      <th>Latitude</th>\n",
       "    </tr>\n",
       "  </thead>\n",
       "  <tbody>\n",
       "    <tr>\n",
       "      <th>count</th>\n",
       "      <td>4128.000000</td>\n",
       "      <td>4128.000000</td>\n",
       "      <td>4128.000000</td>\n",
       "      <td>4128.000000</td>\n",
       "      <td>4128.000000</td>\n",
       "      <td>4128.000000</td>\n",
       "    </tr>\n",
       "    <tr>\n",
       "      <th>mean</th>\n",
       "      <td>-0.020422</td>\n",
       "      <td>-0.033156</td>\n",
       "      <td>-0.015839</td>\n",
       "      <td>0.009108</td>\n",
       "      <td>0.001743</td>\n",
       "      <td>-0.027473</td>\n",
       "    </tr>\n",
       "    <tr>\n",
       "      <th>std</th>\n",
       "      <td>0.991428</td>\n",
       "      <td>1.000463</td>\n",
       "      <td>1.112513</td>\n",
       "      <td>1.066387</td>\n",
       "      <td>0.719740</td>\n",
       "      <td>0.977020</td>\n",
       "    </tr>\n",
       "    <tr>\n",
       "      <th>min</th>\n",
       "      <td>-1.775369</td>\n",
       "      <td>-2.203155</td>\n",
       "      <td>-1.665200</td>\n",
       "      <td>-1.271390</td>\n",
       "      <td>-0.212051</td>\n",
       "      <td>-1.437204</td>\n",
       "    </tr>\n",
       "    <tr>\n",
       "      <th>25%</th>\n",
       "      <td>-0.694147</td>\n",
       "      <td>-0.852156</td>\n",
       "      <td>-0.414926</td>\n",
       "      <td>-0.576147</td>\n",
       "      <td>-0.058868</td>\n",
       "      <td>-0.798685</td>\n",
       "    </tr>\n",
       "    <tr>\n",
       "      <th>50%</th>\n",
       "      <td>-0.178346</td>\n",
       "      <td>-0.057452</td>\n",
       "      <td>-0.084957</td>\n",
       "      <td>-0.236693</td>\n",
       "      <td>-0.021275</td>\n",
       "      <td>-0.658863</td>\n",
       "    </tr>\n",
       "    <tr>\n",
       "      <th>75%</th>\n",
       "      <td>0.434224</td>\n",
       "      <td>0.657783</td>\n",
       "      <td>0.233042</td>\n",
       "      <td>0.260069</td>\n",
       "      <td>0.022117</td>\n",
       "      <td>0.949086</td>\n",
       "    </tr>\n",
       "    <tr>\n",
       "      <th>max</th>\n",
       "      <td>5.844248</td>\n",
       "      <td>1.849840</td>\n",
       "      <td>52.576927</td>\n",
       "      <td>24.294400</td>\n",
       "      <td>45.707503</td>\n",
       "      <td>2.939214</td>\n",
       "    </tr>\n",
       "  </tbody>\n",
       "</table>\n",
       "</div>"
      ],
      "text/plain": [
       "            MedInc     HouseAge     AveRooms   Population     AveOccup   \n",
       "count  4128.000000  4128.000000  4128.000000  4128.000000  4128.000000  \\\n",
       "mean     -0.020422    -0.033156    -0.015839     0.009108     0.001743   \n",
       "std       0.991428     1.000463     1.112513     1.066387     0.719740   \n",
       "min      -1.775369    -2.203155    -1.665200    -1.271390    -0.212051   \n",
       "25%      -0.694147    -0.852156    -0.414926    -0.576147    -0.058868   \n",
       "50%      -0.178346    -0.057452    -0.084957    -0.236693    -0.021275   \n",
       "75%       0.434224     0.657783     0.233042     0.260069     0.022117   \n",
       "max       5.844248     1.849840    52.576927    24.294400    45.707503   \n",
       "\n",
       "          Latitude  \n",
       "count  4128.000000  \n",
       "mean     -0.027473  \n",
       "std       0.977020  \n",
       "min      -1.437204  \n",
       "25%      -0.798685  \n",
       "50%      -0.658863  \n",
       "75%       0.949086  \n",
       "max       2.939214  "
      ]
     },
     "execution_count": 355,
     "metadata": {},
     "output_type": "execute_result"
    }
   ],
   "source": [
    "x_test_std=pd.DataFrame(scaler.transform(x_test), columns=x_test.columns)\n",
    "x_test_std.describe()"
   ]
  },
  {
   "cell_type": "code",
   "execution_count": 356,
   "id": "0e6f474f",
   "metadata": {},
   "outputs": [],
   "source": [
    "from sklearn.tree import DecisionTreeRegressor\n",
    "from sklearn.ensemble import RandomForestRegressor"
   ]
  },
  {
   "cell_type": "code",
   "execution_count": 358,
   "id": "4bb714bf",
   "metadata": {},
   "outputs": [
    {
     "name": "stdout",
     "output_type": "stream",
     "text": [
      "test_r2 0.44923079386730236\n",
      "test_MAE 0.5672174588178295\n",
      "train_r2 1.0\n",
      "train_MAE 3.65233252771551e-17\n"
     ]
    }
   ],
   "source": [
    "mod = DecisionTreeRegressor(random_state=1)\n",
    "mod.fit(x_train_std, y_train)\n",
    "preds = mod.predict(x_test_std)\n",
    "\n",
    "\n",
    "from sklearn.metrics import r2_score, mean_absolute_error\n",
    "print('test_r2',r2_score(y_test, preds))\n",
    "print('test_MAE',mean_absolute_error(y_test,preds))\n",
    "\n",
    "preds_train = mod.predict(x_train_std)\n",
    "print('train_r2',r2_score(y_train, preds_train))\n",
    "print('train_MAE',mean_absolute_error(y_train,preds_train))\n",
    "#перенавченна модель, так як на train все ідельно, а на тесті маємо слабкі значеня метрик"
   ]
  },
  {
   "cell_type": "code",
   "execution_count": 359,
   "id": "b24f6584",
   "metadata": {},
   "outputs": [
    {
     "data": {
      "text/plain": [
       "[Text(0.5, 0.8333333333333334, 'MedInc <= 0.606\\nsquared_error = 1.33\\nsamples = 16512\\nvalue = 2.069'),\n",
       " Text(0.25, 0.5, 'MedInc <= -0.423\\nsquared_error = 0.828\\nsamples = 12949\\nvalue = 1.73'),\n",
       " Text(0.125, 0.16666666666666666, '\\n  (...)  \\n'),\n",
       " Text(0.375, 0.16666666666666666, '\\n  (...)  \\n'),\n",
       " Text(0.75, 0.5, 'MedInc <= 1.475\\nsquared_error = 1.219\\nsamples = 3563\\nvalue = 3.302'),\n",
       " Text(0.625, 0.16666666666666666, '\\n  (...)  \\n'),\n",
       " Text(0.875, 0.16666666666666666, '\\n  (...)  \\n')]"
      ]
     },
     "execution_count": 359,
     "metadata": {},
     "output_type": "execute_result"
    },
    {
     "data": {
      "image/png": "[encoded data removed]",
      "text/plain": [
       "<Figure size 720x576 with 1 Axes>"
      ]
     },
     "metadata": {
      "needs_background": "light"
     },
     "output_type": "display_data"
    }
   ],
   "source": [
    "from sklearn.tree import plot_tree\n",
    "plt.figure(figsize=(10,8))\n",
    "plot_tree(mod,max_depth=1, filled=True, feature_names=x_train.columns) #перший розподіл іде по MedInc"
   ]
  },
  {
   "cell_type": "code",
   "execution_count": 363,
   "id": "a1ef1587",
   "metadata": {},
   "outputs": [
    {
     "name": "stdout",
     "output_type": "stream",
     "text": [
      "test_r2 0.6510843981046512\n",
      "test_MAE 0.4724544296818938\n",
      "train_r2 0.7598075809478146\n",
      "train_MAE 0.39639301822416534\n"
     ]
    }
   ],
   "source": [
    "#дадаємо додаткові параметри DecisionTreeRegressor, методом підбору\n",
    "mod = DecisionTreeRegressor(random_state=1, max_leaf_nodes=400, min_samples_leaf=24,max_depth=15)\n",
    "mod.fit(x_train_std, y_train)\n",
    "preds = mod.predict(x_test_std)\n",
    "\n",
    "\n",
    "from sklearn.metrics import r2_score, mean_absolute_error\n",
    "print('test_r2',r2_score(y_test, preds))\n",
    "print('test_MAE',mean_absolute_error(y_test,preds))\n",
    "\n",
    "preds_train = mod.predict(x_train_std)\n",
    "print('train_r2',r2_score(y_train, preds_train))\n",
    "print('train_MAE',mean_absolute_error(y_train,preds_train))\n",
    "#метрики на тесті трохи покращились"
   ]
  },
  {
   "cell_type": "code",
   "execution_count": 364,
   "id": "775b5d1f",
   "metadata": {},
   "outputs": [
    {
     "data": {
      "text/plain": [
       "DecisionTreeRegressor(max_depth=15, max_leaf_nodes=400, min_samples_leaf=24,\n",
       "                      random_state=1)"
      ]
     },
     "execution_count": 364,
     "metadata": {},
     "output_type": "execute_result"
    }
   ],
   "source": [
    "mod.fit(x_train_std.values, y_train.values) #info"
   ]
  },
  {
   "cell_type": "markdown",
   "id": "5ee2d090",
   "metadata": {},
   "source": [
    " "
   ]
  },
  {
   "cell_type": "markdown",
   "id": "27e9b623",
   "metadata": {},
   "source": [
    "Нормалізуємо вибірку зі значеннями та перерахуємо наші моделі"
   ]
  },
  {
   "cell_type": "code",
   "execution_count": 376,
   "id": "736ee6ec",
   "metadata": {},
   "outputs": [],
   "source": [
    "x = df[df.columns.drop(to_drop+['target'])] #видаляємо тільки 2 признака з високою креляцію між собою\n",
    "y = df['target']\n",
    "from sklearn.model_selection import train_test_split\n",
    "x_train, x_test, y_train, y_test = train_test_split(x,y,\n",
    "                                                   test_size=0.2)"
   ]
  },
  {
   "cell_type": "code",
   "execution_count": 377,
   "id": "45c53376",
   "metadata": {},
   "outputs": [],
   "source": [
    "from sklearn.preprocessing import MinMaxScaler"
   ]
  },
  {
   "cell_type": "code",
   "execution_count": 378,
   "id": "fad5a85f",
   "metadata": {},
   "outputs": [
    {
     "data": {
      "text/html": [
       "<div>\n",
       "<style scoped>\n",
       "    .dataframe tbody tr th:only-of-type {\n",
       "        vertical-align: middle;\n",
       "    }\n",
       "\n",
       "    .dataframe tbody tr th {\n",
       "        vertical-align: top;\n",
       "    }\n",
       "\n",
       "    .dataframe thead th {\n",
       "        text-align: right;\n",
       "    }\n",
       "</style>\n",
       "<table border=\"1\" class=\"dataframe\">\n",
       "  <thead>\n",
       "    <tr style=\"text-align: right;\">\n",
       "      <th></th>\n",
       "      <th>MedInc</th>\n",
       "      <th>HouseAge</th>\n",
       "      <th>AveRooms</th>\n",
       "      <th>Population</th>\n",
       "      <th>AveOccup</th>\n",
       "      <th>Latitude</th>\n",
       "    </tr>\n",
       "  </thead>\n",
       "  <tbody>\n",
       "    <tr>\n",
       "      <th>count</th>\n",
       "      <td>16512.000000</td>\n",
       "      <td>16512.000000</td>\n",
       "      <td>16512.000000</td>\n",
       "      <td>16512.000000</td>\n",
       "      <td>16512.000000</td>\n",
       "      <td>16512.000000</td>\n",
       "    </tr>\n",
       "    <tr>\n",
       "      <th>mean</th>\n",
       "      <td>3.874451</td>\n",
       "      <td>28.690528</td>\n",
       "      <td>5.428246</td>\n",
       "      <td>1430.785550</td>\n",
       "      <td>3.108039</td>\n",
       "      <td>35.622470</td>\n",
       "    </tr>\n",
       "    <tr>\n",
       "      <th>std</th>\n",
       "      <td>1.904352</td>\n",
       "      <td>12.547878</td>\n",
       "      <td>2.568342</td>\n",
       "      <td>1152.377326</td>\n",
       "      <td>11.598718</td>\n",
       "      <td>2.127132</td>\n",
       "    </tr>\n",
       "    <tr>\n",
       "      <th>min</th>\n",
       "      <td>0.499900</td>\n",
       "      <td>1.000000</td>\n",
       "      <td>0.888889</td>\n",
       "      <td>3.000000</td>\n",
       "      <td>0.692308</td>\n",
       "      <td>32.540000</td>\n",
       "    </tr>\n",
       "    <tr>\n",
       "      <th>25%</th>\n",
       "      <td>2.562500</td>\n",
       "      <td>18.000000</td>\n",
       "      <td>4.434542</td>\n",
       "      <td>788.000000</td>\n",
       "      <td>2.433014</td>\n",
       "      <td>33.940000</td>\n",
       "    </tr>\n",
       "    <tr>\n",
       "      <th>50%</th>\n",
       "      <td>3.542150</td>\n",
       "      <td>29.000000</td>\n",
       "      <td>5.228256</td>\n",
       "      <td>1166.000000</td>\n",
       "      <td>2.823280</td>\n",
       "      <td>34.255000</td>\n",
       "    </tr>\n",
       "    <tr>\n",
       "      <th>75%</th>\n",
       "      <td>4.750000</td>\n",
       "      <td>37.000000</td>\n",
       "      <td>6.056361</td>\n",
       "      <td>1727.000000</td>\n",
       "      <td>3.289677</td>\n",
       "      <td>37.710000</td>\n",
       "    </tr>\n",
       "    <tr>\n",
       "      <th>max</th>\n",
       "      <td>15.000100</td>\n",
       "      <td>52.000000</td>\n",
       "      <td>141.909091</td>\n",
       "      <td>35682.000000</td>\n",
       "      <td>1243.333333</td>\n",
       "      <td>41.950000</td>\n",
       "    </tr>\n",
       "  </tbody>\n",
       "</table>\n",
       "</div>"
      ],
      "text/plain": [
       "             MedInc      HouseAge      AveRooms    Population      AveOccup   \n",
       "count  16512.000000  16512.000000  16512.000000  16512.000000  16512.000000  \\\n",
       "mean       3.874451     28.690528      5.428246   1430.785550      3.108039   \n",
       "std        1.904352     12.547878      2.568342   1152.377326     11.598718   \n",
       "min        0.499900      1.000000      0.888889      3.000000      0.692308   \n",
       "25%        2.562500     18.000000      4.434542    788.000000      2.433014   \n",
       "50%        3.542150     29.000000      5.228256   1166.000000      2.823280   \n",
       "75%        4.750000     37.000000      6.056361   1727.000000      3.289677   \n",
       "max       15.000100     52.000000    141.909091  35682.000000   1243.333333   \n",
       "\n",
       "           Latitude  \n",
       "count  16512.000000  \n",
       "mean      35.622470  \n",
       "std        2.127132  \n",
       "min       32.540000  \n",
       "25%       33.940000  \n",
       "50%       34.255000  \n",
       "75%       37.710000  \n",
       "max       41.950000  "
      ]
     },
     "execution_count": 378,
     "metadata": {},
     "output_type": "execute_result"
    }
   ],
   "source": [
    "x_train.describe()"
   ]
  },
  {
   "cell_type": "code",
   "execution_count": 379,
   "id": "030dcacc",
   "metadata": {},
   "outputs": [
    {
     "data": {
      "text/plain": [
       "MinMaxScaler()"
      ]
     },
     "execution_count": 379,
     "metadata": {},
     "output_type": "execute_result"
    }
   ],
   "source": [
    "mms = MinMaxScaler()\n",
    "mms.fit(x_train)"
   ]
  },
  {
   "cell_type": "code",
   "execution_count": 380,
   "id": "5d2dcb98",
   "metadata": {},
   "outputs": [
    {
     "data": {
      "text/plain": [
       "array([ 0.4999    ,  1.        ,  0.88888889,  3.        ,  0.69230769,\n",
       "       32.54      ])"
      ]
     },
     "execution_count": 380,
     "metadata": {},
     "output_type": "execute_result"
    }
   ],
   "source": [
    "mms.data_min_"
   ]
  },
  {
   "cell_type": "code",
   "execution_count": 381,
   "id": "fecbcb29",
   "metadata": {},
   "outputs": [
    {
     "data": {
      "text/plain": [
       "MedInc         0.499900\n",
       "HouseAge       1.000000\n",
       "AveRooms       0.888889\n",
       "Population     3.000000\n",
       "AveOccup       0.692308\n",
       "Latitude      32.540000\n",
       "dtype: float64"
      ]
     },
     "execution_count": 381,
     "metadata": {},
     "output_type": "execute_result"
    }
   ],
   "source": [
    "x_train.min()"
   ]
  },
  {
   "cell_type": "code",
   "execution_count": 382,
   "id": "8f3df723",
   "metadata": {},
   "outputs": [
    {
     "data": {
      "text/plain": [
       "array([   15.0001    ,    52.        ,   141.90909091, 35682.        ,\n",
       "        1243.33333333,    41.95      ])"
      ]
     },
     "execution_count": 382,
     "metadata": {},
     "output_type": "execute_result"
    }
   ],
   "source": [
    "mms.data_max_"
   ]
  },
  {
   "cell_type": "code",
   "execution_count": 383,
   "id": "9d35d7ad",
   "metadata": {},
   "outputs": [
    {
     "data": {
      "text/plain": [
       "MedInc           15.000100\n",
       "HouseAge         52.000000\n",
       "AveRooms        141.909091\n",
       "Population    35682.000000\n",
       "AveOccup       1243.333333\n",
       "Latitude         41.950000\n",
       "dtype: float64"
      ]
     },
     "execution_count": 383,
     "metadata": {},
     "output_type": "execute_result"
    }
   ],
   "source": [
    "x_train.max()"
   ]
  },
  {
   "cell_type": "code",
   "execution_count": 386,
   "id": "eb2f13e8",
   "metadata": {},
   "outputs": [
    {
     "data": {
      "text/html": [
       "<div>\n",
       "<style scoped>\n",
       "    .dataframe tbody tr th:only-of-type {\n",
       "        vertical-align: middle;\n",
       "    }\n",
       "\n",
       "    .dataframe tbody tr th {\n",
       "        vertical-align: top;\n",
       "    }\n",
       "\n",
       "    .dataframe thead th {\n",
       "        text-align: right;\n",
       "    }\n",
       "</style>\n",
       "<table border=\"1\" class=\"dataframe\">\n",
       "  <thead>\n",
       "    <tr style=\"text-align: right;\">\n",
       "      <th></th>\n",
       "      <th>MedInc</th>\n",
       "      <th>HouseAge</th>\n",
       "      <th>AveRooms</th>\n",
       "      <th>Population</th>\n",
       "      <th>AveOccup</th>\n",
       "      <th>Latitude</th>\n",
       "    </tr>\n",
       "  </thead>\n",
       "  <tbody>\n",
       "    <tr>\n",
       "      <th>0</th>\n",
       "      <td>0.405670</td>\n",
       "      <td>0.333333</td>\n",
       "      <td>0.045889</td>\n",
       "      <td>0.023179</td>\n",
       "      <td>0.001778</td>\n",
       "      <td>0.117960</td>\n",
       "    </tr>\n",
       "    <tr>\n",
       "      <th>1</th>\n",
       "      <td>0.301154</td>\n",
       "      <td>0.254902</td>\n",
       "      <td>0.042808</td>\n",
       "      <td>0.034558</td>\n",
       "      <td>0.001905</td>\n",
       "      <td>0.209352</td>\n",
       "    </tr>\n",
       "    <tr>\n",
       "      <th>2</th>\n",
       "      <td>0.149660</td>\n",
       "      <td>0.627451</td>\n",
       "      <td>0.037293</td>\n",
       "      <td>0.011828</td>\n",
       "      <td>0.001851</td>\n",
       "      <td>0.224230</td>\n",
       "    </tr>\n",
       "    <tr>\n",
       "      <th>3</th>\n",
       "      <td>0.210673</td>\n",
       "      <td>0.686275</td>\n",
       "      <td>0.033473</td>\n",
       "      <td>0.018751</td>\n",
       "      <td>0.001515</td>\n",
       "      <td>0.548353</td>\n",
       "    </tr>\n",
       "    <tr>\n",
       "      <th>4</th>\n",
       "      <td>0.045868</td>\n",
       "      <td>0.509804</td>\n",
       "      <td>0.033908</td>\n",
       "      <td>0.016564</td>\n",
       "      <td>0.001317</td>\n",
       "      <td>0.689692</td>\n",
       "    </tr>\n",
       "    <tr>\n",
       "      <th>...</th>\n",
       "      <td>...</td>\n",
       "      <td>...</td>\n",
       "      <td>...</td>\n",
       "      <td>...</td>\n",
       "      <td>...</td>\n",
       "      <td>...</td>\n",
       "    </tr>\n",
       "    <tr>\n",
       "      <th>16507</th>\n",
       "      <td>0.284217</td>\n",
       "      <td>0.274510</td>\n",
       "      <td>0.031433</td>\n",
       "      <td>0.071891</td>\n",
       "      <td>0.002608</td>\n",
       "      <td>0.536663</td>\n",
       "    </tr>\n",
       "    <tr>\n",
       "      <th>16508</th>\n",
       "      <td>0.244721</td>\n",
       "      <td>0.274510</td>\n",
       "      <td>0.031918</td>\n",
       "      <td>0.039547</td>\n",
       "      <td>0.001355</td>\n",
       "      <td>0.133900</td>\n",
       "    </tr>\n",
       "    <tr>\n",
       "      <th>16509</th>\n",
       "      <td>0.241383</td>\n",
       "      <td>0.588235</td>\n",
       "      <td>0.026966</td>\n",
       "      <td>0.019675</td>\n",
       "      <td>0.001019</td>\n",
       "      <td>0.173220</td>\n",
       "    </tr>\n",
       "    <tr>\n",
       "      <th>16510</th>\n",
       "      <td>0.217983</td>\n",
       "      <td>0.725490</td>\n",
       "      <td>0.027497</td>\n",
       "      <td>0.018947</td>\n",
       "      <td>0.002715</td>\n",
       "      <td>0.144527</td>\n",
       "    </tr>\n",
       "    <tr>\n",
       "      <th>16511</th>\n",
       "      <td>0.212149</td>\n",
       "      <td>0.823529</td>\n",
       "      <td>0.032613</td>\n",
       "      <td>0.021946</td>\n",
       "      <td>0.001337</td>\n",
       "      <td>0.165781</td>\n",
       "    </tr>\n",
       "  </tbody>\n",
       "</table>\n",
       "<p>16512 rows × 6 columns</p>\n",
       "</div>"
      ],
      "text/plain": [
       "         MedInc  HouseAge  AveRooms  Population  AveOccup  Latitude\n",
       "0      0.405670  0.333333  0.045889    0.023179  0.001778  0.117960\n",
       "1      0.301154  0.254902  0.042808    0.034558  0.001905  0.209352\n",
       "2      0.149660  0.627451  0.037293    0.011828  0.001851  0.224230\n",
       "3      0.210673  0.686275  0.033473    0.018751  0.001515  0.548353\n",
       "4      0.045868  0.509804  0.033908    0.016564  0.001317  0.689692\n",
       "...         ...       ...       ...         ...       ...       ...\n",
       "16507  0.284217  0.274510  0.031433    0.071891  0.002608  0.536663\n",
       "16508  0.244721  0.274510  0.031918    0.039547  0.001355  0.133900\n",
       "16509  0.241383  0.588235  0.026966    0.019675  0.001019  0.173220\n",
       "16510  0.217983  0.725490  0.027497    0.018947  0.002715  0.144527\n",
       "16511  0.212149  0.823529  0.032613    0.021946  0.001337  0.165781\n",
       "\n",
       "[16512 rows x 6 columns]"
      ]
     },
     "execution_count": 386,
     "metadata": {},
     "output_type": "execute_result"
    }
   ],
   "source": [
    "x_train_normal=pd.DataFrame(mms.transform(x_train), columns=x_train.columns)\n",
    "x_train_normal"
   ]
  },
  {
   "cell_type": "code",
   "execution_count": 388,
   "id": "c6cbc656",
   "metadata": {
    "scrolled": true
   },
   "outputs": [
    {
     "data": {
      "text/html": [
       "<div>\n",
       "<style scoped>\n",
       "    .dataframe tbody tr th:only-of-type {\n",
       "        vertical-align: middle;\n",
       "    }\n",
       "\n",
       "    .dataframe tbody tr th {\n",
       "        vertical-align: top;\n",
       "    }\n",
       "\n",
       "    .dataframe thead th {\n",
       "        text-align: right;\n",
       "    }\n",
       "</style>\n",
       "<table border=\"1\" class=\"dataframe\">\n",
       "  <thead>\n",
       "    <tr style=\"text-align: right;\">\n",
       "      <th></th>\n",
       "      <th>MedInc</th>\n",
       "      <th>HouseAge</th>\n",
       "      <th>AveRooms</th>\n",
       "      <th>Population</th>\n",
       "      <th>AveOccup</th>\n",
       "      <th>Latitude</th>\n",
       "    </tr>\n",
       "  </thead>\n",
       "  <tbody>\n",
       "    <tr>\n",
       "      <th>0</th>\n",
       "      <td>0.169956</td>\n",
       "      <td>0.921569</td>\n",
       "      <td>0.033043</td>\n",
       "      <td>0.032708</td>\n",
       "      <td>0.001791</td>\n",
       "      <td>0.154091</td>\n",
       "    </tr>\n",
       "    <tr>\n",
       "      <th>1</th>\n",
       "      <td>0.350657</td>\n",
       "      <td>0.490196</td>\n",
       "      <td>0.032665</td>\n",
       "      <td>0.028056</td>\n",
       "      <td>0.001944</td>\n",
       "      <td>0.178533</td>\n",
       "    </tr>\n",
       "    <tr>\n",
       "      <th>2</th>\n",
       "      <td>0.270693</td>\n",
       "      <td>0.666667</td>\n",
       "      <td>0.033146</td>\n",
       "      <td>0.022086</td>\n",
       "      <td>0.001741</td>\n",
       "      <td>0.482465</td>\n",
       "    </tr>\n",
       "    <tr>\n",
       "      <th>3</th>\n",
       "      <td>0.351168</td>\n",
       "      <td>0.313725</td>\n",
       "      <td>0.036203</td>\n",
       "      <td>0.060147</td>\n",
       "      <td>0.001938</td>\n",
       "      <td>0.482465</td>\n",
       "    </tr>\n",
       "    <tr>\n",
       "      <th>4</th>\n",
       "      <td>0.145322</td>\n",
       "      <td>0.176471</td>\n",
       "      <td>0.076188</td>\n",
       "      <td>0.028504</td>\n",
       "      <td>0.001626</td>\n",
       "      <td>0.179596</td>\n",
       "    </tr>\n",
       "    <tr>\n",
       "      <th>...</th>\n",
       "      <td>...</td>\n",
       "      <td>...</td>\n",
       "      <td>...</td>\n",
       "      <td>...</td>\n",
       "      <td>...</td>\n",
       "      <td>...</td>\n",
       "    </tr>\n",
       "    <tr>\n",
       "      <th>4123</th>\n",
       "      <td>0.208818</td>\n",
       "      <td>0.921569</td>\n",
       "      <td>0.029848</td>\n",
       "      <td>0.018134</td>\n",
       "      <td>0.001417</td>\n",
       "      <td>0.554729</td>\n",
       "    </tr>\n",
       "    <tr>\n",
       "      <th>4124</th>\n",
       "      <td>0.461001</td>\n",
       "      <td>0.764706</td>\n",
       "      <td>0.033542</td>\n",
       "      <td>0.010819</td>\n",
       "      <td>0.001572</td>\n",
       "      <td>0.143464</td>\n",
       "    </tr>\n",
       "    <tr>\n",
       "      <th>4125</th>\n",
       "      <td>0.240307</td>\n",
       "      <td>0.333333</td>\n",
       "      <td>0.037173</td>\n",
       "      <td>0.021049</td>\n",
       "      <td>0.002093</td>\n",
       "      <td>0.431456</td>\n",
       "    </tr>\n",
       "    <tr>\n",
       "      <th>4126</th>\n",
       "      <td>0.128081</td>\n",
       "      <td>1.000000</td>\n",
       "      <td>0.036301</td>\n",
       "      <td>0.025337</td>\n",
       "      <td>0.001421</td>\n",
       "      <td>0.854410</td>\n",
       "    </tr>\n",
       "    <tr>\n",
       "      <th>4127</th>\n",
       "      <td>0.404746</td>\n",
       "      <td>0.568627</td>\n",
       "      <td>0.033335</td>\n",
       "      <td>0.029345</td>\n",
       "      <td>0.001609</td>\n",
       "      <td>0.180659</td>\n",
       "    </tr>\n",
       "  </tbody>\n",
       "</table>\n",
       "<p>4128 rows × 6 columns</p>\n",
       "</div>"
      ],
      "text/plain": [
       "        MedInc  HouseAge  AveRooms  Population  AveOccup  Latitude\n",
       "0     0.169956  0.921569  0.033043    0.032708  0.001791  0.154091\n",
       "1     0.350657  0.490196  0.032665    0.028056  0.001944  0.178533\n",
       "2     0.270693  0.666667  0.033146    0.022086  0.001741  0.482465\n",
       "3     0.351168  0.313725  0.036203    0.060147  0.001938  0.482465\n",
       "4     0.145322  0.176471  0.076188    0.028504  0.001626  0.179596\n",
       "...        ...       ...       ...         ...       ...       ...\n",
       "4123  0.208818  0.921569  0.029848    0.018134  0.001417  0.554729\n",
       "4124  0.461001  0.764706  0.033542    0.010819  0.001572  0.143464\n",
       "4125  0.240307  0.333333  0.037173    0.021049  0.002093  0.431456\n",
       "4126  0.128081  1.000000  0.036301    0.025337  0.001421  0.854410\n",
       "4127  0.404746  0.568627  0.033335    0.029345  0.001609  0.180659\n",
       "\n",
       "[4128 rows x 6 columns]"
      ]
     },
     "execution_count": 388,
     "metadata": {},
     "output_type": "execute_result"
    }
   ],
   "source": [
    "x_test_normal=pd.DataFrame(mms.transform(x_test), columns=x_test.columns)\n",
    "x_test_normal"
   ]
  },
  {
   "cell_type": "markdown",
   "id": "41e06d7f",
   "metadata": {},
   "source": [
    "Навчаємо модель на нормалізованій вибірці"
   ]
  },
  {
   "cell_type": "code",
   "execution_count": 392,
   "id": "41ca8ce1",
   "metadata": {},
   "outputs": [
    {
     "name": "stdout",
     "output_type": "stream",
     "text": [
      "test_r2 0.4712830537152356\n",
      "test_MAE 0.5654112984496124\n",
      "train_r2 1.0\n",
      "train_MAE 3.5770267024017885e-17\n"
     ]
    }
   ],
   "source": [
    "mod = DecisionTreeRegressor(random_state=1)\n",
    "mod.fit(x_train_normal, y_train)\n",
    "preds = mod.predict(x_test_normal)\n",
    "\n",
    "\n",
    "from sklearn.metrics import r2_score, mean_absolute_error\n",
    "print('test_r2',r2_score(y_test, preds))\n",
    "print('test_MAE',mean_absolute_error(y_test,preds))\n",
    "\n",
    "preds_train = mod.predict(x_train_normal)\n",
    "print('train_r2',r2_score(y_train, preds_train))\n",
    "print('train_MAE',mean_absolute_error(y_train,preds_train))\n",
    "#перенавченна модель, на train все ідельно, а на тесті маємо слабкі значеня метрик"
   ]
  },
  {
   "cell_type": "code",
   "execution_count": 394,
   "id": "9ca64d3f",
   "metadata": {},
   "outputs": [
    {
     "name": "stdout",
     "output_type": "stream",
     "text": [
      "test_r2 0.675137169569686\n",
      "test_MAE 0.4531253713584642\n",
      "train_r2 0.7574575880816807\n",
      "train_MAE 0.3952323738841076\n"
     ]
    }
   ],
   "source": [
    "#дадаємо додаткові параметри на дерево\n",
    "mod = DecisionTreeRegressor(random_state=1, max_leaf_nodes=400, min_samples_leaf=24,max_depth=15)\n",
    "mod.fit(x_train_normal, y_train)\n",
    "preds = mod.predict(x_test_normal)\n",
    "\n",
    "\n",
    "from sklearn.metrics import r2_score, mean_absolute_error\n",
    "print('test_r2',r2_score(y_test, preds))\n",
    "print('test_MAE',mean_absolute_error(y_test,preds))\n",
    "\n",
    "preds_train = mod.predict(x_train_normal)\n",
    "print('train_r2',r2_score(y_train, preds_train))\n",
    "print('train_MAE',mean_absolute_error(y_train,preds_train))\n",
    "#метрики на тесті трохи покращились"
   ]
  },
  {
   "cell_type": "markdown",
   "id": "ce6f2854",
   "metadata": {},
   "source": [
    "\n",
    "Валідація"
   ]
  },
  {
   "cell_type": "code",
   "execution_count": 432,
   "id": "7805300d",
   "metadata": {},
   "outputs": [],
   "source": [
    "#розп на train, val\n",
    "X_train, X_val_train, Y_train, y_val_train = train_test_split(x_train_normal, y_train, \n",
    "                                                    test_size=0.2, \n",
    "                                                    shuffle=True)"
   ]
  },
  {
   "cell_type": "code",
   "execution_count": 436,
   "id": "182b88d6",
   "metadata": {},
   "outputs": [
    {
     "name": "stdout",
     "output_type": "stream",
     "text": [
      "val_r2 0.6680283104148522\n",
      "val_MAE 0.4679686798707419\n",
      "train_r2 0.7503666444854915\n",
      "train_MAE 0.4016087639900316\n"
     ]
    }
   ],
   "source": [
    "#дадаємо додаткові параметри DecisionTreeRegressor, методом підбору\n",
    "mod = DecisionTreeRegressor(random_state=1, max_leaf_nodes=400, min_samples_leaf=24,max_depth=15)\n",
    "mod.fit(X_train, Y_train)\n",
    "preds = mod.predict(X_val_train)\n",
    "\n",
    "\n",
    "from sklearn.metrics import r2_score, mean_absolute_error\n",
    "print('val_r2',r2_score(y_val_train, preds))\n",
    "print('val_MAE',mean_absolute_error(y_val_train,preds))\n",
    "\n",
    "preds_train = mod.predict(X_train)\n",
    "print('train_r2',r2_score(Y_train, preds_train))\n",
    "print('train_MAE',mean_absolute_error(Y_train,preds_train))\n",
    "#метрики на тесті трохи покращились"
   ]
  },
  {
   "cell_type": "code",
   "execution_count": 433,
   "id": "2cb096bb",
   "metadata": {},
   "outputs": [],
   "source": [
    "#розп на test, val\n",
    "X_test, X_val_test, Y_test, y_val_test = train_test_split(x_test_normal, y_test, \n",
    "                                                    test_size=0.2, \n",
    "                                                    shuffle=True)"
   ]
  },
  {
   "cell_type": "code",
   "execution_count": 438,
   "id": "648241da",
   "metadata": {},
   "outputs": [
    {
     "name": "stdout",
     "output_type": "stream",
     "text": [
      "val_r2 0.635922807565354\n",
      "val_MAE 0.5019326602177736\n",
      "train_r2 0.7224619167411337\n",
      "train_MAE 0.4319502760623792\n"
     ]
    }
   ],
   "source": [
    "#дадаємо додаткові параметри DecisionTreeRegressor, методом підбору\n",
    "mod = DecisionTreeRegressor(random_state=1, max_leaf_nodes=400, min_samples_leaf=24,max_depth=15)\n",
    "mod.fit(X_test, Y_test)\n",
    "preds = mod.predict(X_val_train)\n",
    "\n",
    "\n",
    "from sklearn.metrics import r2_score, mean_absolute_error\n",
    "print('val_r2',r2_score(y_val_train, preds))\n",
    "print('val_MAE',mean_absolute_error(y_val_train,preds))\n",
    "\n",
    "preds_train = mod.predict(X_test)\n",
    "print('train_r2',r2_score(Y_test, preds_train))\n",
    "print('train_MAE',mean_absolute_error(Y_test,preds_train))\n",
    "#метрики на тесті трохи покращились"
   ]
  },
  {
   "cell_type": "markdown",
   "id": "7760f134",
   "metadata": {},
   "source": [
    "\n",
    "Зберігання моделі у pickle_format"
   ]
  },
  {
   "cell_type": "code",
   "execution_count": 441,
   "id": "362cb8e2",
   "metadata": {},
   "outputs": [],
   "source": [
    "import pickle"
   ]
  },
  {
   "cell_type": "code",
   "execution_count": 442,
   "id": "16563b1e",
   "metadata": {},
   "outputs": [],
   "source": [
    "#Зберегти модель\n",
    "pickle.dump(mod, open('model.pickle','wb'))"
   ]
  },
  {
   "cell_type": "code",
   "execution_count": 443,
   "id": "b535766b",
   "metadata": {},
   "outputs": [],
   "source": [
    "#перевірка/считування\n",
    "mod = pickle.load(open('model.pickle','rb'))"
   ]
  },
  {
   "cell_type": "code",
   "execution_count": 444,
   "id": "d3fc0f3d",
   "metadata": {},
   "outputs": [
    {
     "data": {
      "text/plain": [
       "DecisionTreeRegressor(max_depth=15, max_leaf_nodes=400, min_samples_leaf=24,\n",
       "                      random_state=1)"
      ]
     },
     "execution_count": 444,
     "metadata": {},
     "output_type": "execute_result"
    }
   ],
   "source": [
    "mod"
   ]
  },
  {
   "cell_type": "markdown",
   "id": "813e1c05",
   "metadata": {},
   "source": [
    "Зберігання у іншому вигляді"
   ]
  },
  {
   "cell_type": "code",
   "execution_count": 459,
   "id": "62600a59",
   "metadata": {},
   "outputs": [],
   "source": [
    "my_model = {'features':['MedInc','HouseAge','AveRooms','Population','AveOccup','Latitude'],\n",
    "           'model': mod}"
   ]
  },
  {
   "cell_type": "code",
   "execution_count": 460,
   "id": "e531c135",
   "metadata": {},
   "outputs": [],
   "source": [
    "pickle.dump(my_model, open('my_model.pickle','wb'))"
   ]
  },
  {
   "cell_type": "code",
   "execution_count": 461,
   "id": "d8de93d1",
   "metadata": {},
   "outputs": [
    {
     "data": {
      "text/plain": [
       "{'features': ['MedInc',\n",
       "  'HouseAge',\n",
       "  'AveRooms',\n",
       "  'Population',\n",
       "  'AveOccup',\n",
       "  'Latitude'],\n",
       " 'model': DecisionTreeRegressor(max_depth=15, max_leaf_nodes=400, min_samples_leaf=24,\n",
       "                       random_state=1)}"
      ]
     },
     "execution_count": 461,
     "metadata": {},
     "output_type": "execute_result"
    }
   ],
   "source": [
    "my_model"
   ]
  },
  {
   "cell_type": "code",
   "execution_count": 480,
   "id": "6b18110a",
   "metadata": {},
   "outputs": [],
   "source": [
    "#Загрузка data файлу для зчитуання з папки\n",
    "np.savetxt(\"california_housing.csv\", df, delimiter=',',header=\"MedInc,HouseAge,AveRooms,AveBedrms,Population,AveOccup,Latitude,Longitude,target\")"
   ]
  },
  {
   "cell_type": "code",
   "execution_count": null,
   "id": "b185ec41",
   "metadata": {},
   "outputs": [],
   "source": []
  }
 ],
 "metadata": {
  "kernelspec": {
   "display_name": "Python 3 (ipykernel)",
   "language": "python",
   "name": "python3"
  },
  "language_info": {
   "codemirror_mode": {
    "name": "ipython",
    "version": 3
   },
   "file_extension": ".py",
   "mimetype": "text/x-python",
   "name": "python",
   "nbconvert_exporter": "python",
   "pygments_lexer": "ipython3",
   "version": "3.9.12"
  }
 },
 "nbformat": 4,
 "nbformat_minor": 5
}
