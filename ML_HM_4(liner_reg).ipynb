{
 "cells": [
  {
   "cell_type": "code",
   "execution_count": 255,
   "id": "8dd2f743",
   "metadata": {},
   "outputs": [],
   "source": [
    "# Імротуємо біблиотеки\n",
    "import numpy as np\n",
    "import pandas as pd\n",
    "from sklearn.datasets import fetch_california_housing\n",
    "from sklearn.linear_model import LinearRegression, Lasso, Ridge,ElasticNet\n",
    "from sklearn.model_selection import train_test_split\n",
    "\n",
    "from sklearn.metrics import r2_score \n",
    "from sklearn.metrics import mean_absolute_error\n",
    "from sklearn.metrics import mean_squared_error\n",
    "\n",
    "import matplotlib.pyplot as plt\n",
    "import seaborn as sns\n",
    "\n",
    "\n",
    "# Завантажуємо датасет\n",
    "housing = fetch_california_housing(as_frame=True)"
   ]
  },
  {
   "cell_type": "code",
   "execution_count": 121,
   "id": "e3648aa3",
   "metadata": {},
   "outputs": [
    {
     "name": "stdout",
     "output_type": "stream",
     "text": [
      ".. _california_housing_dataset:\n",
      "\n",
      "California Housing dataset\n",
      "--------------------------\n",
      "\n",
      "**Data Set Characteristics:**\n",
      "\n",
      "    :Number of Instances: 20640\n",
      "\n",
      "    :Number of Attributes: 8 numeric, predictive attributes and the target\n",
      "\n",
      "    :Attribute Information:\n",
      "        - MedInc        median income in block group\n",
      "        - HouseAge      median house age in block group\n",
      "        - AveRooms      average number of rooms per household\n",
      "        - AveBedrms     average number of bedrooms per household\n",
      "        - Population    block group population\n",
      "        - AveOccup      average number of household members\n",
      "        - Latitude      block group latitude\n",
      "        - Longitude     block group longitude\n",
      "\n",
      "    :Missing Attribute Values: None\n",
      "\n",
      "This dataset was obtained from the StatLib repository.\n",
      "https://www.dcc.fc.up.pt/~ltorgo/Regression/cal_housing.html\n",
      "\n",
      "The target variable is the median house value for California districts,\n",
      "expressed in hundreds of thousands of dollars ($100,000).\n",
      "\n",
      "This dataset was derived from the 1990 U.S. census, using one row per census\n",
      "block group. A block group is the smallest geographical unit for which the U.S.\n",
      "Census Bureau publishes sample data (a block group typically has a population\n",
      "of 600 to 3,000 people).\n",
      "\n",
      "An household is a group of people residing within a home. Since the average\n",
      "number of rooms and bedrooms in this dataset are provided per household, these\n",
      "columns may take surpinsingly large values for block groups with few households\n",
      "and many empty houses, such as vacation resorts.\n",
      "\n",
      "It can be downloaded/loaded using the\n",
      ":func:`sklearn.datasets.fetch_california_housing` function.\n",
      "\n",
      ".. topic:: References\n",
      "\n",
      "    - Pace, R. Kelley and Ronald Barry, Sparse Spatial Autoregressions,\n",
      "      Statistics and Probability Letters, 33 (1997) 291-297\n",
      "\n"
     ]
    }
   ],
   "source": [
    "# Інформація про датасет \n",
    "\n",
    "print(housing.DESCR)"
   ]
  },
  {
   "cell_type": "code",
   "execution_count": 122,
   "id": "67f30657",
   "metadata": {},
   "outputs": [
    {
     "name": "stdout",
     "output_type": "stream",
     "text": [
      "<class 'pandas.core.frame.DataFrame'>\n",
      "RangeIndex: 20640 entries, 0 to 20639\n",
      "Data columns (total 9 columns):\n",
      " #   Column       Non-Null Count  Dtype  \n",
      "---  ------       --------------  -----  \n",
      " 0   MedInc       20640 non-null  float64\n",
      " 1   HouseAge     20640 non-null  float64\n",
      " 2   AveRooms     20640 non-null  float64\n",
      " 3   AveBedrms    20640 non-null  float64\n",
      " 4   Population   20640 non-null  float64\n",
      " 5   AveOccup     20640 non-null  float64\n",
      " 6   Latitude     20640 non-null  float64\n",
      " 7   Longitude    20640 non-null  float64\n",
      " 8   MedHouseVal  20640 non-null  float64\n",
      "dtypes: float64(9)\n",
      "memory usage: 1.4 MB\n"
     ]
    }
   ],
   "source": [
    "housing.frame.info() #no exist missing value"
   ]
  },
  {
   "cell_type": "code",
   "execution_count": 123,
   "id": "007d8450",
   "metadata": {},
   "outputs": [
    {
     "name": "stdout",
     "output_type": "stream",
     "text": [
      "<class 'pandas.core.series.Series'>\n",
      "RangeIndex: 20640 entries, 0 to 20639\n",
      "Series name: MedHouseVal\n",
      "Non-Null Count  Dtype  \n",
      "--------------  -----  \n",
      "20640 non-null  float64\n",
      "dtypes: float64(1)\n",
      "memory usage: 161.4 KB\n"
     ]
    }
   ],
   "source": [
    "housing.target.info() #no exist missing value"
   ]
  },
  {
   "cell_type": "code",
   "execution_count": 124,
   "id": "77cc6428",
   "metadata": {
    "scrolled": true
   },
   "outputs": [
    {
     "data": {
      "text/html": [
       "<div>\n",
       "<style scoped>\n",
       "    .dataframe tbody tr th:only-of-type {\n",
       "        vertical-align: middle;\n",
       "    }\n",
       "\n",
       "    .dataframe tbody tr th {\n",
       "        vertical-align: top;\n",
       "    }\n",
       "\n",
       "    .dataframe thead th {\n",
       "        text-align: right;\n",
       "    }\n",
       "</style>\n",
       "<table border=\"1\" class=\"dataframe\">\n",
       "  <thead>\n",
       "    <tr style=\"text-align: right;\">\n",
       "      <th></th>\n",
       "      <th>MedInc</th>\n",
       "      <th>HouseAge</th>\n",
       "      <th>AveRooms</th>\n",
       "      <th>AveBedrms</th>\n",
       "      <th>Population</th>\n",
       "      <th>AveOccup</th>\n",
       "      <th>Latitude</th>\n",
       "      <th>Longitude</th>\n",
       "      <th>target</th>\n",
       "    </tr>\n",
       "  </thead>\n",
       "  <tbody>\n",
       "    <tr>\n",
       "      <th>0</th>\n",
       "      <td>8.3252</td>\n",
       "      <td>41.0</td>\n",
       "      <td>6.984127</td>\n",
       "      <td>1.023810</td>\n",
       "      <td>322.0</td>\n",
       "      <td>2.555556</td>\n",
       "      <td>37.88</td>\n",
       "      <td>-122.23</td>\n",
       "      <td>4.526</td>\n",
       "    </tr>\n",
       "    <tr>\n",
       "      <th>1</th>\n",
       "      <td>8.3014</td>\n",
       "      <td>21.0</td>\n",
       "      <td>6.238137</td>\n",
       "      <td>0.971880</td>\n",
       "      <td>2401.0</td>\n",
       "      <td>2.109842</td>\n",
       "      <td>37.86</td>\n",
       "      <td>-122.22</td>\n",
       "      <td>3.585</td>\n",
       "    </tr>\n",
       "    <tr>\n",
       "      <th>2</th>\n",
       "      <td>7.2574</td>\n",
       "      <td>52.0</td>\n",
       "      <td>8.288136</td>\n",
       "      <td>1.073446</td>\n",
       "      <td>496.0</td>\n",
       "      <td>2.802260</td>\n",
       "      <td>37.85</td>\n",
       "      <td>-122.24</td>\n",
       "      <td>3.521</td>\n",
       "    </tr>\n",
       "    <tr>\n",
       "      <th>3</th>\n",
       "      <td>5.6431</td>\n",
       "      <td>52.0</td>\n",
       "      <td>5.817352</td>\n",
       "      <td>1.073059</td>\n",
       "      <td>558.0</td>\n",
       "      <td>2.547945</td>\n",
       "      <td>37.85</td>\n",
       "      <td>-122.25</td>\n",
       "      <td>3.413</td>\n",
       "    </tr>\n",
       "    <tr>\n",
       "      <th>4</th>\n",
       "      <td>3.8462</td>\n",
       "      <td>52.0</td>\n",
       "      <td>6.281853</td>\n",
       "      <td>1.081081</td>\n",
       "      <td>565.0</td>\n",
       "      <td>2.181467</td>\n",
       "      <td>37.85</td>\n",
       "      <td>-122.25</td>\n",
       "      <td>3.422</td>\n",
       "    </tr>\n",
       "  </tbody>\n",
       "</table>\n",
       "</div>"
      ],
      "text/plain": [
       "   MedInc  HouseAge  AveRooms  AveBedrms  Population  AveOccup  Latitude  \\\n",
       "0  8.3252      41.0  6.984127   1.023810       322.0  2.555556     37.88   \n",
       "1  8.3014      21.0  6.238137   0.971880      2401.0  2.109842     37.86   \n",
       "2  7.2574      52.0  8.288136   1.073446       496.0  2.802260     37.85   \n",
       "3  5.6431      52.0  5.817352   1.073059       558.0  2.547945     37.85   \n",
       "4  3.8462      52.0  6.281853   1.081081       565.0  2.181467     37.85   \n",
       "\n",
       "   Longitude  target  \n",
       "0    -122.23   4.526  \n",
       "1    -122.22   3.585  \n",
       "2    -122.24   3.521  \n",
       "3    -122.25   3.413  \n",
       "4    -122.25   3.422  "
      ]
     },
     "execution_count": 124,
     "metadata": {},
     "output_type": "execute_result"
    }
   ],
   "source": [
    "# Створюємо датафрейм \n",
    "\n",
    "df = pd.DataFrame(data = np.c_[housing['data'], housing['target']],\n",
    "                 columns= housing.feature_names + ['target'])\n",
    "df.head()"
   ]
  },
  {
   "cell_type": "code",
   "execution_count": 139,
   "id": "d14a33a8",
   "metadata": {
    "scrolled": true
   },
   "outputs": [
    {
     "data": {
      "text/plain": [
       "<AxesSubplot:>"
      ]
     },
     "execution_count": 139,
     "metadata": {},
     "output_type": "execute_result"
    },
    {
     "data": {
      "image/png": "[encoded data removed]",
      "text/plain": [
       "<Figure size 432x288 with 2 Axes>"
      ]
     },
     "metadata": {
      "needs_background": "light"
     },
     "output_type": "display_data"
    }
   ],
   "source": [
    "import seaborn as sns\n",
    "sns.heatmap(housing.frame.corr()) #корелюють 'Latitude','Longitude' та 'AveRooms','AveBedrms'"
   ]
  },
  {
   "cell_type": "code",
   "execution_count": 140,
   "id": "cbc2bd76",
   "metadata": {
    "scrolled": true
   },
   "outputs": [
    {
     "data": {
      "image/png": "[encoded data removed]",
      "text/plain": [
       "<Figure size 864x720 with 9 Axes>"
      ]
     },
     "metadata": {
      "needs_background": "light"
     },
     "output_type": "display_data"
    }
   ],
   "source": [
    "housing.frame.hist(figsize=(12, 10), bins=30, edgecolor=\"black\")\n",
    "plt.subplots_adjust(hspace=0.7, wspace=0.4) #'AveBedrms', 'AveOccup' не вистачає різноманітності у данних"
   ]
  },
  {
   "cell_type": "code",
   "execution_count": 269,
   "id": "e046f5f0",
   "metadata": {},
   "outputs": [],
   "source": [
    "x = df[['MedInc','HouseAge','AveRooms','Population','Latitude']]#,'AveBedrms', 'AveOccup','Longitude']]#,'basket'\n",
    "y = df['target']"
   ]
  },
  {
   "cell_type": "code",
   "execution_count": 270,
   "id": "332e1ef1",
   "metadata": {},
   "outputs": [],
   "source": [
    "x_train, x_test, y_train, y_test = train_test_split(x,y,test_size=0.2, shuffle=True)"
   ]
  },
  {
   "cell_type": "code",
   "execution_count": 271,
   "id": "35293e8b",
   "metadata": {
    "scrolled": true
   },
   "outputs": [
    {
     "data": {
      "text/plain": [
       "(MedInc           3.863645\n",
       " HouseAge        28.710574\n",
       " AveRooms         5.428986\n",
       " Population    1417.285489\n",
       " Latitude        35.628200\n",
       " dtype: float64,\n",
       " MedInc           1.899112\n",
       " HouseAge        12.582514\n",
       " AveRooms         2.407485\n",
       " Population    1102.712725\n",
       " Latitude         2.136534\n",
       " dtype: float64)"
      ]
     },
     "execution_count": 271,
     "metadata": {},
     "output_type": "execute_result"
    }
   ],
   "source": [
    "#маштабування признаків\n",
    "mean=x_train.mean(axis=0)\n",
    "std=x_train.std(axis=0)\n",
    "\n",
    "mean,std"
   ]
  },
  {
   "cell_type": "code",
   "execution_count": 247,
   "id": "29f68749",
   "metadata": {},
   "outputs": [],
   "source": [
    "x_train-=mean\n",
    "x_train/=std\n",
    "\n",
    "x_test-=mean\n",
    "x_test/=std"
   ]
  },
  {
   "cell_type": "code",
   "execution_count": 248,
   "id": "3b5ccbc6",
   "metadata": {},
   "outputs": [
    {
     "data": {
      "text/plain": [
       "MedInc       -1.123911e-14\n",
       "HouseAge      3.115779e-17\n",
       "AveRooms     -7.855463e-15\n",
       "Population    1.700432e-17\n",
       "Latitude      1.993858e-14\n",
       "dtype: float64"
      ]
     },
     "execution_count": 248,
     "metadata": {},
     "output_type": "execute_result"
    }
   ],
   "source": [
    "x_train.mean(axis=0)"
   ]
  },
  {
   "cell_type": "code",
   "execution_count": 249,
   "id": "2b711af4",
   "metadata": {},
   "outputs": [
    {
     "data": {
      "text/plain": [
       "MedInc        1.0\n",
       "HouseAge      1.0\n",
       "AveRooms      1.0\n",
       "Population    1.0\n",
       "Latitude      1.0\n",
       "dtype: float64"
      ]
     },
     "execution_count": 249,
     "metadata": {},
     "output_type": "execute_result"
    }
   ],
   "source": [
    "x_train.std(axis=0)"
   ]
  },
  {
   "cell_type": "code",
   "execution_count": 210,
   "id": "f0c72d5f",
   "metadata": {},
   "outputs": [
    {
     "data": {
      "text/plain": [
       "[1e-07,\n",
       " 1.6681005372000591e-06,\n",
       " 2.782559402207126e-05,\n",
       " 0.0004641588833612782,\n",
       " 0.007742636826811277,\n",
       " 0.12915496650148853,\n",
       " 2.1544346900318865,\n",
       " 35.9381366380464,\n",
       " 599.4842503189421,\n",
       " 10000.0]"
      ]
     },
     "execution_count": 210,
     "metadata": {},
     "output_type": "execute_result"
    }
   ],
   "source": [
    "#Ridge\n",
    "alphas=list(np.logspace(-7,4,10))\n",
    "models=[]\n",
    "coefs=[]\n",
    "\n",
    "alphas"
   ]
  },
  {
   "cell_type": "code",
   "execution_count": 211,
   "id": "64da16e8",
   "metadata": {},
   "outputs": [],
   "source": [
    "for alpha in alphas:\n",
    "    m_r=Ridge(alpha=alpha).fit(x_train,y_train)\n",
    "    models.append(m_r)\n",
    "    coefs.append(m_r.coef_)\n",
    "\n",
    "models.append(LinearRegression().fit(x_train, y_train))\n"
   ]
  },
  {
   "cell_type": "code",
   "execution_count": 212,
   "id": "3af5ad7a",
   "metadata": {},
   "outputs": [
    {
     "data": {
      "text/plain": [
       "11"
      ]
     },
     "execution_count": 212,
     "metadata": {},
     "output_type": "execute_result"
    }
   ],
   "source": [
    "len(models)"
   ]
  },
  {
   "cell_type": "code",
   "execution_count": 213,
   "id": "e4d6f992",
   "metadata": {},
   "outputs": [
    {
     "data": {
      "text/plain": [
       "10"
      ]
     },
     "execution_count": 213,
     "metadata": {},
     "output_type": "execute_result"
    }
   ],
   "source": [
    "len(coefs)"
   ]
  },
  {
   "cell_type": "code",
   "execution_count": 214,
   "id": "bc37345a",
   "metadata": {},
   "outputs": [
    {
     "data": {
      "text/plain": [
       "(5,)"
      ]
     },
     "execution_count": 214,
     "metadata": {},
     "output_type": "execute_result"
    }
   ],
   "source": [
    "coefs[0].shape"
   ]
  },
  {
   "cell_type": "code",
   "execution_count": 215,
   "id": "6f9c21cf",
   "metadata": {
    "scrolled": true
   },
   "outputs": [
    {
     "name": "stderr",
     "output_type": "stream",
     "text": [
      "C:\\Users\\Dinamicka Laptop\\AppData\\Local\\Temp\\ipykernel_19104\\1472030878.py:5: FutureWarning: The frame.append method is deprecated and will be removed from pandas in a future version. Use pandas.concat instead.\n",
      "  scores=scores.append(\n",
      "C:\\Users\\Dinamicka Laptop\\AppData\\Local\\Temp\\ipykernel_19104\\1472030878.py:19: FutureWarning: The frame.append method is deprecated and will be removed from pandas in a future version. Use pandas.concat instead.\n",
      "  scores=scores.append(\n",
      "C:\\Users\\Dinamicka Laptop\\AppData\\Local\\Temp\\ipykernel_19104\\1472030878.py:19: FutureWarning: The frame.append method is deprecated and will be removed from pandas in a future version. Use pandas.concat instead.\n",
      "  scores=scores.append(\n",
      "C:\\Users\\Dinamicka Laptop\\AppData\\Local\\Temp\\ipykernel_19104\\1472030878.py:19: FutureWarning: The frame.append method is deprecated and will be removed from pandas in a future version. Use pandas.concat instead.\n",
      "  scores=scores.append(\n",
      "C:\\Users\\Dinamicka Laptop\\AppData\\Local\\Temp\\ipykernel_19104\\1472030878.py:19: FutureWarning: The frame.append method is deprecated and will be removed from pandas in a future version. Use pandas.concat instead.\n",
      "  scores=scores.append(\n",
      "C:\\Users\\Dinamicka Laptop\\AppData\\Local\\Temp\\ipykernel_19104\\1472030878.py:19: FutureWarning: The frame.append method is deprecated and will be removed from pandas in a future version. Use pandas.concat instead.\n",
      "  scores=scores.append(\n",
      "C:\\Users\\Dinamicka Laptop\\AppData\\Local\\Temp\\ipykernel_19104\\1472030878.py:19: FutureWarning: The frame.append method is deprecated and will be removed from pandas in a future version. Use pandas.concat instead.\n",
      "  scores=scores.append(\n",
      "C:\\Users\\Dinamicka Laptop\\AppData\\Local\\Temp\\ipykernel_19104\\1472030878.py:19: FutureWarning: The frame.append method is deprecated and will be removed from pandas in a future version. Use pandas.concat instead.\n",
      "  scores=scores.append(\n",
      "C:\\Users\\Dinamicka Laptop\\AppData\\Local\\Temp\\ipykernel_19104\\1472030878.py:19: FutureWarning: The frame.append method is deprecated and will be removed from pandas in a future version. Use pandas.concat instead.\n",
      "  scores=scores.append(\n",
      "C:\\Users\\Dinamicka Laptop\\AppData\\Local\\Temp\\ipykernel_19104\\1472030878.py:19: FutureWarning: The frame.append method is deprecated and will be removed from pandas in a future version. Use pandas.concat instead.\n",
      "  scores=scores.append(\n",
      "C:\\Users\\Dinamicka Laptop\\AppData\\Local\\Temp\\ipykernel_19104\\1472030878.py:19: FutureWarning: The frame.append method is deprecated and will be removed from pandas in a future version. Use pandas.concat instead.\n",
      "  scores=scores.append(\n"
     ]
    },
    {
     "data": {
      "text/html": [
       "<div>\n",
       "<style scoped>\n",
       "    .dataframe tbody tr th:only-of-type {\n",
       "        vertical-align: middle;\n",
       "    }\n",
       "\n",
       "    .dataframe tbody tr th {\n",
       "        vertical-align: top;\n",
       "    }\n",
       "\n",
       "    .dataframe thead th {\n",
       "        text-align: right;\n",
       "    }\n",
       "</style>\n",
       "<table border=\"1\" class=\"dataframe\">\n",
       "  <thead>\n",
       "    <tr style=\"text-align: right;\">\n",
       "      <th></th>\n",
       "      <th>alpha</th>\n",
       "      <th>train_r2</th>\n",
       "      <th>test_r2</th>\n",
       "      <th>train_MAE</th>\n",
       "      <th>test_MAE</th>\n",
       "      <th>train_MSE</th>\n",
       "      <th>test_MSE</th>\n",
       "    </tr>\n",
       "  </thead>\n",
       "  <tbody>\n",
       "    <tr>\n",
       "      <th>0</th>\n",
       "      <td>no</td>\n",
       "      <td>0.521948</td>\n",
       "      <td>0.508092</td>\n",
       "      <td>0.593106</td>\n",
       "      <td>0.603186</td>\n",
       "      <td>0.635107</td>\n",
       "      <td>0.660792</td>\n",
       "    </tr>\n",
       "    <tr>\n",
       "      <th>1</th>\n",
       "      <td>0.0</td>\n",
       "      <td>0.521948</td>\n",
       "      <td>0.508092</td>\n",
       "      <td>0.593106</td>\n",
       "      <td>0.603186</td>\n",
       "      <td>0.635107</td>\n",
       "      <td>0.660792</td>\n",
       "    </tr>\n",
       "    <tr>\n",
       "      <th>2</th>\n",
       "      <td>0.000002</td>\n",
       "      <td>0.521948</td>\n",
       "      <td>0.508092</td>\n",
       "      <td>0.593106</td>\n",
       "      <td>0.603186</td>\n",
       "      <td>0.635107</td>\n",
       "      <td>0.660792</td>\n",
       "    </tr>\n",
       "    <tr>\n",
       "      <th>3</th>\n",
       "      <td>0.000028</td>\n",
       "      <td>0.521948</td>\n",
       "      <td>0.508092</td>\n",
       "      <td>0.593106</td>\n",
       "      <td>0.603186</td>\n",
       "      <td>0.635107</td>\n",
       "      <td>0.660792</td>\n",
       "    </tr>\n",
       "    <tr>\n",
       "      <th>4</th>\n",
       "      <td>0.000464</td>\n",
       "      <td>0.521948</td>\n",
       "      <td>0.508092</td>\n",
       "      <td>0.593106</td>\n",
       "      <td>0.603186</td>\n",
       "      <td>0.635107</td>\n",
       "      <td>0.660792</td>\n",
       "    </tr>\n",
       "    <tr>\n",
       "      <th>5</th>\n",
       "      <td>0.007743</td>\n",
       "      <td>0.521948</td>\n",
       "      <td>0.508092</td>\n",
       "      <td>0.593106</td>\n",
       "      <td>0.603186</td>\n",
       "      <td>0.635107</td>\n",
       "      <td>0.660792</td>\n",
       "    </tr>\n",
       "    <tr>\n",
       "      <th>6</th>\n",
       "      <td>0.129155</td>\n",
       "      <td>0.521948</td>\n",
       "      <td>0.508092</td>\n",
       "      <td>0.593106</td>\n",
       "      <td>0.603187</td>\n",
       "      <td>0.635107</td>\n",
       "      <td>0.660792</td>\n",
       "    </tr>\n",
       "    <tr>\n",
       "      <th>7</th>\n",
       "      <td>2.154435</td>\n",
       "      <td>0.521948</td>\n",
       "      <td>0.508094</td>\n",
       "      <td>0.593114</td>\n",
       "      <td>0.603193</td>\n",
       "      <td>0.635107</td>\n",
       "      <td>0.660789</td>\n",
       "    </tr>\n",
       "    <tr>\n",
       "      <th>8</th>\n",
       "      <td>35.938137</td>\n",
       "      <td>0.521945</td>\n",
       "      <td>0.508119</td>\n",
       "      <td>0.593248</td>\n",
       "      <td>0.603305</td>\n",
       "      <td>0.635111</td>\n",
       "      <td>0.660755</td>\n",
       "    </tr>\n",
       "    <tr>\n",
       "      <th>9</th>\n",
       "      <td>599.48425</td>\n",
       "      <td>0.521146</td>\n",
       "      <td>0.507809</td>\n",
       "      <td>0.595927</td>\n",
       "      <td>0.605705</td>\n",
       "      <td>0.636172</td>\n",
       "      <td>0.661171</td>\n",
       "    </tr>\n",
       "    <tr>\n",
       "      <th>10</th>\n",
       "      <td>10000.0</td>\n",
       "      <td>0.441207</td>\n",
       "      <td>0.433869</td>\n",
       "      <td>0.666466</td>\n",
       "      <td>0.673587</td>\n",
       "      <td>0.742374</td>\n",
       "      <td>0.760497</td>\n",
       "    </tr>\n",
       "  </tbody>\n",
       "</table>\n",
       "</div>"
      ],
      "text/plain": [
       "        alpha  train_r2   test_r2  train_MAE  test_MAE  train_MSE  test_MSE\n",
       "0          no  0.521948  0.508092   0.593106  0.603186   0.635107  0.660792\n",
       "1         0.0  0.521948  0.508092   0.593106  0.603186   0.635107  0.660792\n",
       "2    0.000002  0.521948  0.508092   0.593106  0.603186   0.635107  0.660792\n",
       "3    0.000028  0.521948  0.508092   0.593106  0.603186   0.635107  0.660792\n",
       "4    0.000464  0.521948  0.508092   0.593106  0.603186   0.635107  0.660792\n",
       "5    0.007743  0.521948  0.508092   0.593106  0.603186   0.635107  0.660792\n",
       "6    0.129155  0.521948  0.508092   0.593106  0.603187   0.635107  0.660792\n",
       "7    2.154435  0.521948  0.508094   0.593114  0.603193   0.635107  0.660789\n",
       "8   35.938137  0.521945  0.508119   0.593248  0.603305   0.635111  0.660755\n",
       "9   599.48425  0.521146  0.507809   0.595927  0.605705   0.636172  0.661171\n",
       "10    10000.0  0.441207  0.433869   0.666466  0.673587   0.742374  0.760497"
      ]
     },
     "execution_count": 215,
     "metadata": {},
     "output_type": "execute_result"
    }
   ],
   "source": [
    "#метрики\n",
    "import pandas as pd\n",
    "\n",
    "scores=pd.DataFrame()\n",
    "scores=scores.append(\n",
    "    {\n",
    "        'alpha': 'no',\n",
    "        'train_r2':r2_score(y_train, models[-1].predict(x_train)),\n",
    "        'test_r2':r2_score(y_test, models[-1].predict(x_test)),\n",
    "        'train_MAE':mean_absolute_error(y_train, models[-1].predict(x_train)), \n",
    "        'test_MAE':mean_absolute_error(y_test, models[-1].predict(x_test)), \n",
    "        'train_MSE':mean_squared_error(y_train, models[-1].predict(x_train)),\n",
    "        'test_MSE':mean_squared_error(y_test, models[-1].predict(x_test))\n",
    "    }, ignore_index=True\n",
    "    )\n",
    "\n",
    "for i,m in enumerate (models[:-1]):\n",
    "    alpha=alphas[i]\n",
    "    scores=scores.append(\n",
    "        {\n",
    "            'alpha': alpha,\n",
    "            'train_r2':r2_score(y_train, m.predict(x_train)),\n",
    "            'test_r2':r2_score(y_test, m.predict(x_test)),\n",
    "            'train_MAE':mean_absolute_error(y_train, m.predict(x_train)),\n",
    "            'test_MAE':mean_absolute_error(y_test, m.predict(x_test)), \n",
    "            'train_MSE':mean_squared_error(y_train, m.predict(x_train)),\n",
    "            'test_MSE':mean_squared_error(y_test, m.predict(x_test))\n",
    "        }, ignore_index=True\n",
    "    )\n",
    "    \n",
    "scores"
   ]
  },
  {
   "cell_type": "code",
   "execution_count": 216,
   "id": "edb5a48c",
   "metadata": {},
   "outputs": [
    {
     "data": {
      "text/html": [
       "<div>\n",
       "<style scoped>\n",
       "    .dataframe tbody tr th:only-of-type {\n",
       "        vertical-align: middle;\n",
       "    }\n",
       "\n",
       "    .dataframe tbody tr th {\n",
       "        vertical-align: top;\n",
       "    }\n",
       "\n",
       "    .dataframe thead th {\n",
       "        text-align: right;\n",
       "    }\n",
       "</style>\n",
       "<table border=\"1\" class=\"dataframe\">\n",
       "  <thead>\n",
       "    <tr style=\"text-align: right;\">\n",
       "      <th></th>\n",
       "      <th>alpha</th>\n",
       "      <th>train_r2</th>\n",
       "      <th>test_r2</th>\n",
       "      <th>train_MAE</th>\n",
       "      <th>test_MAE</th>\n",
       "      <th>train_MSE</th>\n",
       "      <th>test_MSE</th>\n",
       "    </tr>\n",
       "  </thead>\n",
       "  <tbody>\n",
       "    <tr>\n",
       "      <th>8</th>\n",
       "      <td>35.938137</td>\n",
       "      <td>0.521945</td>\n",
       "      <td>0.508119</td>\n",
       "      <td>0.593248</td>\n",
       "      <td>0.603305</td>\n",
       "      <td>0.635111</td>\n",
       "      <td>0.660755</td>\n",
       "    </tr>\n",
       "    <tr>\n",
       "      <th>7</th>\n",
       "      <td>2.154435</td>\n",
       "      <td>0.521948</td>\n",
       "      <td>0.508094</td>\n",
       "      <td>0.593114</td>\n",
       "      <td>0.603193</td>\n",
       "      <td>0.635107</td>\n",
       "      <td>0.660789</td>\n",
       "    </tr>\n",
       "    <tr>\n",
       "      <th>6</th>\n",
       "      <td>0.129155</td>\n",
       "      <td>0.521948</td>\n",
       "      <td>0.508092</td>\n",
       "      <td>0.593106</td>\n",
       "      <td>0.603187</td>\n",
       "      <td>0.635107</td>\n",
       "      <td>0.660792</td>\n",
       "    </tr>\n",
       "    <tr>\n",
       "      <th>5</th>\n",
       "      <td>0.007743</td>\n",
       "      <td>0.521948</td>\n",
       "      <td>0.508092</td>\n",
       "      <td>0.593106</td>\n",
       "      <td>0.603186</td>\n",
       "      <td>0.635107</td>\n",
       "      <td>0.660792</td>\n",
       "    </tr>\n",
       "    <tr>\n",
       "      <th>4</th>\n",
       "      <td>0.000464</td>\n",
       "      <td>0.521948</td>\n",
       "      <td>0.508092</td>\n",
       "      <td>0.593106</td>\n",
       "      <td>0.603186</td>\n",
       "      <td>0.635107</td>\n",
       "      <td>0.660792</td>\n",
       "    </tr>\n",
       "    <tr>\n",
       "      <th>3</th>\n",
       "      <td>0.000028</td>\n",
       "      <td>0.521948</td>\n",
       "      <td>0.508092</td>\n",
       "      <td>0.593106</td>\n",
       "      <td>0.603186</td>\n",
       "      <td>0.635107</td>\n",
       "      <td>0.660792</td>\n",
       "    </tr>\n",
       "    <tr>\n",
       "      <th>2</th>\n",
       "      <td>0.000002</td>\n",
       "      <td>0.521948</td>\n",
       "      <td>0.508092</td>\n",
       "      <td>0.593106</td>\n",
       "      <td>0.603186</td>\n",
       "      <td>0.635107</td>\n",
       "      <td>0.660792</td>\n",
       "    </tr>\n",
       "    <tr>\n",
       "      <th>1</th>\n",
       "      <td>0.0</td>\n",
       "      <td>0.521948</td>\n",
       "      <td>0.508092</td>\n",
       "      <td>0.593106</td>\n",
       "      <td>0.603186</td>\n",
       "      <td>0.635107</td>\n",
       "      <td>0.660792</td>\n",
       "    </tr>\n",
       "    <tr>\n",
       "      <th>0</th>\n",
       "      <td>no</td>\n",
       "      <td>0.521948</td>\n",
       "      <td>0.508092</td>\n",
       "      <td>0.593106</td>\n",
       "      <td>0.603186</td>\n",
       "      <td>0.635107</td>\n",
       "      <td>0.660792</td>\n",
       "    </tr>\n",
       "    <tr>\n",
       "      <th>9</th>\n",
       "      <td>599.48425</td>\n",
       "      <td>0.521146</td>\n",
       "      <td>0.507809</td>\n",
       "      <td>0.595927</td>\n",
       "      <td>0.605705</td>\n",
       "      <td>0.636172</td>\n",
       "      <td>0.661171</td>\n",
       "    </tr>\n",
       "    <tr>\n",
       "      <th>10</th>\n",
       "      <td>10000.0</td>\n",
       "      <td>0.441207</td>\n",
       "      <td>0.433869</td>\n",
       "      <td>0.666466</td>\n",
       "      <td>0.673587</td>\n",
       "      <td>0.742374</td>\n",
       "      <td>0.760497</td>\n",
       "    </tr>\n",
       "  </tbody>\n",
       "</table>\n",
       "</div>"
      ],
      "text/plain": [
       "        alpha  train_r2   test_r2  train_MAE  test_MAE  train_MSE  test_MSE\n",
       "8   35.938137  0.521945  0.508119   0.593248  0.603305   0.635111  0.660755\n",
       "7    2.154435  0.521948  0.508094   0.593114  0.603193   0.635107  0.660789\n",
       "6    0.129155  0.521948  0.508092   0.593106  0.603187   0.635107  0.660792\n",
       "5    0.007743  0.521948  0.508092   0.593106  0.603186   0.635107  0.660792\n",
       "4    0.000464  0.521948  0.508092   0.593106  0.603186   0.635107  0.660792\n",
       "3    0.000028  0.521948  0.508092   0.593106  0.603186   0.635107  0.660792\n",
       "2    0.000002  0.521948  0.508092   0.593106  0.603186   0.635107  0.660792\n",
       "1         0.0  0.521948  0.508092   0.593106  0.603186   0.635107  0.660792\n",
       "0          no  0.521948  0.508092   0.593106  0.603186   0.635107  0.660792\n",
       "9   599.48425  0.521146  0.507809   0.595927  0.605705   0.636172  0.661171\n",
       "10    10000.0  0.441207  0.433869   0.666466  0.673587   0.742374  0.760497"
      ]
     },
     "execution_count": 216,
     "metadata": {},
     "output_type": "execute_result"
    }
   ],
   "source": [
    "#best metris Ridge\n",
    "scores.sort_values(['test_r2','train_r2'],ascending=False)"
   ]
  },
  {
   "cell_type": "code",
   "execution_count": 218,
   "id": "dc84072a",
   "metadata": {},
   "outputs": [
    {
     "data": {
      "text/plain": [
       "[1e-07,\n",
       " 1.6681005372000591e-06,\n",
       " 2.782559402207126e-05,\n",
       " 0.0004641588833612782,\n",
       " 0.007742636826811277,\n",
       " 0.12915496650148853,\n",
       " 2.1544346900318865,\n",
       " 35.9381366380464,\n",
       " 599.4842503189421,\n",
       " 10000.0]"
      ]
     },
     "execution_count": 218,
     "metadata": {},
     "output_type": "execute_result"
    }
   ],
   "source": [
    "#Lasso\n",
    "alphas=list(np.logspace(-7,4,10))\n",
    "models=[]\n",
    "coefs=[]\n",
    "\n",
    "alphas"
   ]
  },
  {
   "cell_type": "code",
   "execution_count": 219,
   "id": "bf170830",
   "metadata": {},
   "outputs": [],
   "source": [
    "for alpha in alphas:\n",
    "    m_r=Lasso(alpha=alpha).fit(x_train,y_train) #Lasso\n",
    "    models.append(m_r)\n",
    "    coefs.append(m_r.coef_)\n",
    "\n",
    "models.append(LinearRegression().fit(x_train, y_train))"
   ]
  },
  {
   "cell_type": "code",
   "execution_count": 220,
   "id": "8e840da3",
   "metadata": {
    "scrolled": true
   },
   "outputs": [
    {
     "name": "stderr",
     "output_type": "stream",
     "text": [
      "C:\\Users\\Dinamicka Laptop\\AppData\\Local\\Temp\\ipykernel_19104\\1785095176.py:5: FutureWarning: The frame.append method is deprecated and will be removed from pandas in a future version. Use pandas.concat instead.\n",
      "  scores=scores.append (\n",
      "C:\\Users\\Dinamicka Laptop\\AppData\\Local\\Temp\\ipykernel_19104\\1785095176.py:22: FutureWarning: The frame.append method is deprecated and will be removed from pandas in a future version. Use pandas.concat instead.\n",
      "  scores=scores.append(\n",
      "C:\\Users\\Dinamicka Laptop\\AppData\\Local\\Temp\\ipykernel_19104\\1785095176.py:22: FutureWarning: The frame.append method is deprecated and will be removed from pandas in a future version. Use pandas.concat instead.\n",
      "  scores=scores.append(\n",
      "C:\\Users\\Dinamicka Laptop\\AppData\\Local\\Temp\\ipykernel_19104\\1785095176.py:22: FutureWarning: The frame.append method is deprecated and will be removed from pandas in a future version. Use pandas.concat instead.\n",
      "  scores=scores.append(\n",
      "C:\\Users\\Dinamicka Laptop\\AppData\\Local\\Temp\\ipykernel_19104\\1785095176.py:22: FutureWarning: The frame.append method is deprecated and will be removed from pandas in a future version. Use pandas.concat instead.\n",
      "  scores=scores.append(\n",
      "C:\\Users\\Dinamicka Laptop\\AppData\\Local\\Temp\\ipykernel_19104\\1785095176.py:22: FutureWarning: The frame.append method is deprecated and will be removed from pandas in a future version. Use pandas.concat instead.\n",
      "  scores=scores.append(\n",
      "C:\\Users\\Dinamicka Laptop\\AppData\\Local\\Temp\\ipykernel_19104\\1785095176.py:22: FutureWarning: The frame.append method is deprecated and will be removed from pandas in a future version. Use pandas.concat instead.\n",
      "  scores=scores.append(\n",
      "C:\\Users\\Dinamicka Laptop\\AppData\\Local\\Temp\\ipykernel_19104\\1785095176.py:22: FutureWarning: The frame.append method is deprecated and will be removed from pandas in a future version. Use pandas.concat instead.\n",
      "  scores=scores.append(\n",
      "C:\\Users\\Dinamicka Laptop\\AppData\\Local\\Temp\\ipykernel_19104\\1785095176.py:22: FutureWarning: The frame.append method is deprecated and will be removed from pandas in a future version. Use pandas.concat instead.\n",
      "  scores=scores.append(\n",
      "C:\\Users\\Dinamicka Laptop\\AppData\\Local\\Temp\\ipykernel_19104\\1785095176.py:22: FutureWarning: The frame.append method is deprecated and will be removed from pandas in a future version. Use pandas.concat instead.\n",
      "  scores=scores.append(\n",
      "C:\\Users\\Dinamicka Laptop\\AppData\\Local\\Temp\\ipykernel_19104\\1785095176.py:22: FutureWarning: The frame.append method is deprecated and will be removed from pandas in a future version. Use pandas.concat instead.\n",
      "  scores=scores.append(\n"
     ]
    },
    {
     "data": {
      "text/html": [
       "<div>\n",
       "<style scoped>\n",
       "    .dataframe tbody tr th:only-of-type {\n",
       "        vertical-align: middle;\n",
       "    }\n",
       "\n",
       "    .dataframe tbody tr th {\n",
       "        vertical-align: top;\n",
       "    }\n",
       "\n",
       "    .dataframe thead th {\n",
       "        text-align: right;\n",
       "    }\n",
       "</style>\n",
       "<table border=\"1\" class=\"dataframe\">\n",
       "  <thead>\n",
       "    <tr style=\"text-align: right;\">\n",
       "      <th></th>\n",
       "      <th>alpha</th>\n",
       "      <th>train_r2</th>\n",
       "      <th>test_r2</th>\n",
       "      <th>train_MAE</th>\n",
       "      <th>test_MAE</th>\n",
       "      <th>train_MSE</th>\n",
       "      <th>test_MSE</th>\n",
       "      <th>train_RMSE</th>\n",
       "      <th>test_RMSE</th>\n",
       "    </tr>\n",
       "  </thead>\n",
       "  <tbody>\n",
       "    <tr>\n",
       "      <th>0</th>\n",
       "      <td>no</td>\n",
       "      <td>0.521948</td>\n",
       "      <td>0.508092</td>\n",
       "      <td>0.593106</td>\n",
       "      <td>0.603186</td>\n",
       "      <td>0.635107</td>\n",
       "      <td>0.660792</td>\n",
       "      <td>0.796936</td>\n",
       "      <td>0.812891</td>\n",
       "    </tr>\n",
       "    <tr>\n",
       "      <th>1</th>\n",
       "      <td>0.0</td>\n",
       "      <td>0.521948</td>\n",
       "      <td>0.508092</td>\n",
       "      <td>0.593106</td>\n",
       "      <td>0.603186</td>\n",
       "      <td>0.635107</td>\n",
       "      <td>0.660792</td>\n",
       "      <td>0.796936</td>\n",
       "      <td>0.812891</td>\n",
       "    </tr>\n",
       "    <tr>\n",
       "      <th>2</th>\n",
       "      <td>0.000002</td>\n",
       "      <td>0.521948</td>\n",
       "      <td>0.508092</td>\n",
       "      <td>0.593106</td>\n",
       "      <td>0.603186</td>\n",
       "      <td>0.635107</td>\n",
       "      <td>0.660792</td>\n",
       "      <td>0.796936</td>\n",
       "      <td>0.812891</td>\n",
       "    </tr>\n",
       "    <tr>\n",
       "      <th>3</th>\n",
       "      <td>0.000028</td>\n",
       "      <td>0.521948</td>\n",
       "      <td>0.508092</td>\n",
       "      <td>0.593108</td>\n",
       "      <td>0.603188</td>\n",
       "      <td>0.635107</td>\n",
       "      <td>0.660792</td>\n",
       "      <td>0.796936</td>\n",
       "      <td>0.812891</td>\n",
       "    </tr>\n",
       "    <tr>\n",
       "      <th>4</th>\n",
       "      <td>0.000464</td>\n",
       "      <td>0.521947</td>\n",
       "      <td>0.508091</td>\n",
       "      <td>0.593137</td>\n",
       "      <td>0.603217</td>\n",
       "      <td>0.635108</td>\n",
       "      <td>0.660792</td>\n",
       "      <td>0.796937</td>\n",
       "      <td>0.812891</td>\n",
       "    </tr>\n",
       "    <tr>\n",
       "      <th>5</th>\n",
       "      <td>0.007743</td>\n",
       "      <td>0.521684</td>\n",
       "      <td>0.507868</td>\n",
       "      <td>0.593821</td>\n",
       "      <td>0.603910</td>\n",
       "      <td>0.635457</td>\n",
       "      <td>0.661093</td>\n",
       "      <td>0.797156</td>\n",
       "      <td>0.813076</td>\n",
       "    </tr>\n",
       "    <tr>\n",
       "      <th>6</th>\n",
       "      <td>0.129155</td>\n",
       "      <td>0.483497</td>\n",
       "      <td>0.472134</td>\n",
       "      <td>0.627662</td>\n",
       "      <td>0.637118</td>\n",
       "      <td>0.686190</td>\n",
       "      <td>0.709095</td>\n",
       "      <td>0.828366</td>\n",
       "      <td>0.842078</td>\n",
       "    </tr>\n",
       "    <tr>\n",
       "      <th>7</th>\n",
       "      <td>2.154435</td>\n",
       "      <td>0.000000</td>\n",
       "      <td>-0.000285</td>\n",
       "      <td>0.911061</td>\n",
       "      <td>0.910627</td>\n",
       "      <td>1.328531</td>\n",
       "      <td>1.343705</td>\n",
       "      <td>1.152619</td>\n",
       "      <td>1.159183</td>\n",
       "    </tr>\n",
       "    <tr>\n",
       "      <th>8</th>\n",
       "      <td>35.938137</td>\n",
       "      <td>0.000000</td>\n",
       "      <td>-0.000285</td>\n",
       "      <td>0.911061</td>\n",
       "      <td>0.910627</td>\n",
       "      <td>1.328531</td>\n",
       "      <td>1.343705</td>\n",
       "      <td>1.152619</td>\n",
       "      <td>1.159183</td>\n",
       "    </tr>\n",
       "    <tr>\n",
       "      <th>9</th>\n",
       "      <td>599.48425</td>\n",
       "      <td>0.000000</td>\n",
       "      <td>-0.000285</td>\n",
       "      <td>0.911061</td>\n",
       "      <td>0.910627</td>\n",
       "      <td>1.328531</td>\n",
       "      <td>1.343705</td>\n",
       "      <td>1.152619</td>\n",
       "      <td>1.159183</td>\n",
       "    </tr>\n",
       "    <tr>\n",
       "      <th>10</th>\n",
       "      <td>10000.0</td>\n",
       "      <td>0.000000</td>\n",
       "      <td>-0.000285</td>\n",
       "      <td>0.911061</td>\n",
       "      <td>0.910627</td>\n",
       "      <td>1.328531</td>\n",
       "      <td>1.343705</td>\n",
       "      <td>1.152619</td>\n",
       "      <td>1.159183</td>\n",
       "    </tr>\n",
       "  </tbody>\n",
       "</table>\n",
       "</div>"
      ],
      "text/plain": [
       "        alpha  train_r2   test_r2  train_MAE  test_MAE  train_MSE  test_MSE  \\\n",
       "0          no  0.521948  0.508092   0.593106  0.603186   0.635107  0.660792   \n",
       "1         0.0  0.521948  0.508092   0.593106  0.603186   0.635107  0.660792   \n",
       "2    0.000002  0.521948  0.508092   0.593106  0.603186   0.635107  0.660792   \n",
       "3    0.000028  0.521948  0.508092   0.593108  0.603188   0.635107  0.660792   \n",
       "4    0.000464  0.521947  0.508091   0.593137  0.603217   0.635108  0.660792   \n",
       "5    0.007743  0.521684  0.507868   0.593821  0.603910   0.635457  0.661093   \n",
       "6    0.129155  0.483497  0.472134   0.627662  0.637118   0.686190  0.709095   \n",
       "7    2.154435  0.000000 -0.000285   0.911061  0.910627   1.328531  1.343705   \n",
       "8   35.938137  0.000000 -0.000285   0.911061  0.910627   1.328531  1.343705   \n",
       "9   599.48425  0.000000 -0.000285   0.911061  0.910627   1.328531  1.343705   \n",
       "10    10000.0  0.000000 -0.000285   0.911061  0.910627   1.328531  1.343705   \n",
       "\n",
       "    train_RMSE  test_RMSE  \n",
       "0     0.796936   0.812891  \n",
       "1     0.796936   0.812891  \n",
       "2     0.796936   0.812891  \n",
       "3     0.796936   0.812891  \n",
       "4     0.796937   0.812891  \n",
       "5     0.797156   0.813076  \n",
       "6     0.828366   0.842078  \n",
       "7     1.152619   1.159183  \n",
       "8     1.152619   1.159183  \n",
       "9     1.152619   1.159183  \n",
       "10    1.152619   1.159183  "
      ]
     },
     "execution_count": 220,
     "metadata": {},
     "output_type": "execute_result"
    }
   ],
   "source": [
    "#метрики\n",
    "import pandas as pd\n",
    "\n",
    "scores=pd.DataFrame()\n",
    "scores=scores.append (\n",
    "    {\n",
    "        'alpha': 'no',\n",
    "        'train_r2':r2_score(y_train, models[-1].predict(x_train)),\n",
    "        'test_r2':r2_score(y_test, models[-1].predict(x_test)),\n",
    "        'train_MAE':mean_absolute_error(y_train, models[-1].predict(x_train)), \n",
    "        'test_MAE':mean_absolute_error(y_test, models[-1].predict(x_test)), \n",
    "        'train_MSE':mean_squared_error(y_train, models[-1].predict(x_train)),\n",
    "        'test_MSE':mean_squared_error(y_test, models[-1].predict(x_test)),\n",
    "        'train_RMSE':np.sqrt(mean_squared_error(y_train, models[-1].predict(x_train))),\n",
    "        'test_RMSE':np.sqrt(mean_squared_error(y_test, models[-1].predict(x_test))),\n",
    "        \n",
    "    }, ignore_index=True\n",
    "    )\n",
    "\n",
    "for i,m in enumerate (models[:-1]):\n",
    "    alpha=alphas[i]\n",
    "    scores=scores.append(\n",
    "        {\n",
    "            'alpha': alpha,\n",
    "            'train_r2':r2_score(y_train, m.predict(x_train)),\n",
    "            'test_r2':r2_score(y_test, m.predict(x_test)),\n",
    "            'train_MAE':mean_absolute_error(y_train, m.predict(x_train)),\n",
    "            'test_MAE':mean_absolute_error(y_test, m.predict(x_test)), \n",
    "            'train_MSE':mean_squared_error(y_train, m.predict(x_train)),\n",
    "            'test_MSE':mean_squared_error(y_test, m.predict(x_test)),\n",
    "            'train_RMSE':np.sqrt(mean_squared_error(y_train, m.predict(x_train))),\n",
    "            'test_RMSE':np.sqrt(mean_squared_error(y_test, m.predict(x_test))),\n",
    "        }, ignore_index=True\n",
    "    )\n",
    "\n",
    "scores"
   ]
  },
  {
   "cell_type": "code",
   "execution_count": 221,
   "id": "d8445762",
   "metadata": {},
   "outputs": [
    {
     "data": {
      "text/html": [
       "<div>\n",
       "<style scoped>\n",
       "    .dataframe tbody tr th:only-of-type {\n",
       "        vertical-align: middle;\n",
       "    }\n",
       "\n",
       "    .dataframe tbody tr th {\n",
       "        vertical-align: top;\n",
       "    }\n",
       "\n",
       "    .dataframe thead th {\n",
       "        text-align: right;\n",
       "    }\n",
       "</style>\n",
       "<table border=\"1\" class=\"dataframe\">\n",
       "  <thead>\n",
       "    <tr style=\"text-align: right;\">\n",
       "      <th></th>\n",
       "      <th>alpha</th>\n",
       "      <th>train_r2</th>\n",
       "      <th>test_r2</th>\n",
       "      <th>train_MAE</th>\n",
       "      <th>test_MAE</th>\n",
       "      <th>train_MSE</th>\n",
       "      <th>test_MSE</th>\n",
       "      <th>train_RMSE</th>\n",
       "      <th>test_RMSE</th>\n",
       "    </tr>\n",
       "  </thead>\n",
       "  <tbody>\n",
       "    <tr>\n",
       "      <th>3</th>\n",
       "      <td>0.000028</td>\n",
       "      <td>0.521948</td>\n",
       "      <td>0.508092</td>\n",
       "      <td>0.593108</td>\n",
       "      <td>0.603188</td>\n",
       "      <td>0.635107</td>\n",
       "      <td>0.660792</td>\n",
       "      <td>0.796936</td>\n",
       "      <td>0.812891</td>\n",
       "    </tr>\n",
       "    <tr>\n",
       "      <th>1</th>\n",
       "      <td>0.0</td>\n",
       "      <td>0.521948</td>\n",
       "      <td>0.508092</td>\n",
       "      <td>0.593106</td>\n",
       "      <td>0.603186</td>\n",
       "      <td>0.635107</td>\n",
       "      <td>0.660792</td>\n",
       "      <td>0.796936</td>\n",
       "      <td>0.812891</td>\n",
       "    </tr>\n",
       "    <tr>\n",
       "      <th>0</th>\n",
       "      <td>no</td>\n",
       "      <td>0.521948</td>\n",
       "      <td>0.508092</td>\n",
       "      <td>0.593106</td>\n",
       "      <td>0.603186</td>\n",
       "      <td>0.635107</td>\n",
       "      <td>0.660792</td>\n",
       "      <td>0.796936</td>\n",
       "      <td>0.812891</td>\n",
       "    </tr>\n",
       "    <tr>\n",
       "      <th>2</th>\n",
       "      <td>0.000002</td>\n",
       "      <td>0.521948</td>\n",
       "      <td>0.508092</td>\n",
       "      <td>0.593106</td>\n",
       "      <td>0.603186</td>\n",
       "      <td>0.635107</td>\n",
       "      <td>0.660792</td>\n",
       "      <td>0.796936</td>\n",
       "      <td>0.812891</td>\n",
       "    </tr>\n",
       "    <tr>\n",
       "      <th>4</th>\n",
       "      <td>0.000464</td>\n",
       "      <td>0.521947</td>\n",
       "      <td>0.508091</td>\n",
       "      <td>0.593137</td>\n",
       "      <td>0.603217</td>\n",
       "      <td>0.635108</td>\n",
       "      <td>0.660792</td>\n",
       "      <td>0.796937</td>\n",
       "      <td>0.812891</td>\n",
       "    </tr>\n",
       "    <tr>\n",
       "      <th>5</th>\n",
       "      <td>0.007743</td>\n",
       "      <td>0.521684</td>\n",
       "      <td>0.507868</td>\n",
       "      <td>0.593821</td>\n",
       "      <td>0.603910</td>\n",
       "      <td>0.635457</td>\n",
       "      <td>0.661093</td>\n",
       "      <td>0.797156</td>\n",
       "      <td>0.813076</td>\n",
       "    </tr>\n",
       "    <tr>\n",
       "      <th>6</th>\n",
       "      <td>0.129155</td>\n",
       "      <td>0.483497</td>\n",
       "      <td>0.472134</td>\n",
       "      <td>0.627662</td>\n",
       "      <td>0.637118</td>\n",
       "      <td>0.686190</td>\n",
       "      <td>0.709095</td>\n",
       "      <td>0.828366</td>\n",
       "      <td>0.842078</td>\n",
       "    </tr>\n",
       "    <tr>\n",
       "      <th>7</th>\n",
       "      <td>2.154435</td>\n",
       "      <td>0.000000</td>\n",
       "      <td>-0.000285</td>\n",
       "      <td>0.911061</td>\n",
       "      <td>0.910627</td>\n",
       "      <td>1.328531</td>\n",
       "      <td>1.343705</td>\n",
       "      <td>1.152619</td>\n",
       "      <td>1.159183</td>\n",
       "    </tr>\n",
       "    <tr>\n",
       "      <th>8</th>\n",
       "      <td>35.938137</td>\n",
       "      <td>0.000000</td>\n",
       "      <td>-0.000285</td>\n",
       "      <td>0.911061</td>\n",
       "      <td>0.910627</td>\n",
       "      <td>1.328531</td>\n",
       "      <td>1.343705</td>\n",
       "      <td>1.152619</td>\n",
       "      <td>1.159183</td>\n",
       "    </tr>\n",
       "    <tr>\n",
       "      <th>9</th>\n",
       "      <td>599.48425</td>\n",
       "      <td>0.000000</td>\n",
       "      <td>-0.000285</td>\n",
       "      <td>0.911061</td>\n",
       "      <td>0.910627</td>\n",
       "      <td>1.328531</td>\n",
       "      <td>1.343705</td>\n",
       "      <td>1.152619</td>\n",
       "      <td>1.159183</td>\n",
       "    </tr>\n",
       "    <tr>\n",
       "      <th>10</th>\n",
       "      <td>10000.0</td>\n",
       "      <td>0.000000</td>\n",
       "      <td>-0.000285</td>\n",
       "      <td>0.911061</td>\n",
       "      <td>0.910627</td>\n",
       "      <td>1.328531</td>\n",
       "      <td>1.343705</td>\n",
       "      <td>1.152619</td>\n",
       "      <td>1.159183</td>\n",
       "    </tr>\n",
       "  </tbody>\n",
       "</table>\n",
       "</div>"
      ],
      "text/plain": [
       "        alpha  train_r2   test_r2  train_MAE  test_MAE  train_MSE  test_MSE  \\\n",
       "3    0.000028  0.521948  0.508092   0.593108  0.603188   0.635107  0.660792   \n",
       "1         0.0  0.521948  0.508092   0.593106  0.603186   0.635107  0.660792   \n",
       "0          no  0.521948  0.508092   0.593106  0.603186   0.635107  0.660792   \n",
       "2    0.000002  0.521948  0.508092   0.593106  0.603186   0.635107  0.660792   \n",
       "4    0.000464  0.521947  0.508091   0.593137  0.603217   0.635108  0.660792   \n",
       "5    0.007743  0.521684  0.507868   0.593821  0.603910   0.635457  0.661093   \n",
       "6    0.129155  0.483497  0.472134   0.627662  0.637118   0.686190  0.709095   \n",
       "7    2.154435  0.000000 -0.000285   0.911061  0.910627   1.328531  1.343705   \n",
       "8   35.938137  0.000000 -0.000285   0.911061  0.910627   1.328531  1.343705   \n",
       "9   599.48425  0.000000 -0.000285   0.911061  0.910627   1.328531  1.343705   \n",
       "10    10000.0  0.000000 -0.000285   0.911061  0.910627   1.328531  1.343705   \n",
       "\n",
       "    train_RMSE  test_RMSE  \n",
       "3     0.796936   0.812891  \n",
       "1     0.796936   0.812891  \n",
       "0     0.796936   0.812891  \n",
       "2     0.796936   0.812891  \n",
       "4     0.796937   0.812891  \n",
       "5     0.797156   0.813076  \n",
       "6     0.828366   0.842078  \n",
       "7     1.152619   1.159183  \n",
       "8     1.152619   1.159183  \n",
       "9     1.152619   1.159183  \n",
       "10    1.152619   1.159183  "
      ]
     },
     "execution_count": 221,
     "metadata": {},
     "output_type": "execute_result"
    }
   ],
   "source": [
    "#best metris Lasso\n",
    "scores.sort_values(['test_r2','train_r2'],ascending=False) \n",
    "#alpha=0.000028"
   ]
  },
  {
   "cell_type": "markdown",
   "id": "71ae49f2",
   "metadata": {},
   "source": [
    "Basic version без маштабування"
   ]
  },
  {
   "cell_type": "code",
   "execution_count": 226,
   "id": "09c6eb7d",
   "metadata": {
    "scrolled": true
   },
   "outputs": [
    {
     "name": "stdout",
     "output_type": "stream",
     "text": [
      "\n",
      "Model R² Score: 0.287\n",
      "\n",
      "Model MAE Score: 0.759\n",
      "\n",
      "Model MSE Score: 0.927\n",
      "\n",
      "Model RMSE Score: 0.963\n"
     ]
    }
   ],
   "source": [
    "lr = Lasso() # Initializing the model\n",
    "lr.fit(x_train, y_train) # Fitting the model to the training data\n",
    "y_pred = lr.predict(x_test) # Predicting prices on the testing set\n",
    "score = r2_score(y_test, y_pred) # Measuring Model performance by comparing the predicted values to the actual values\n",
    "score_2 = mean_absolute_error(y_test, y_pred) \n",
    "score_3 = mean_squared_error(y_test, y_pred)\n",
    "score_4 = np.sqrt(mean_squared_error(y_test, y_pred))\n",
    "\n",
    "print(f'\\nModel R² Score: {score:.3f}') # Printing R² score\n",
    "print(f'\\nModel MAE Score: {score_2:.3f}') # Printing MAE score\n",
    "print(f'\\nModel MSE Score: {score_3:.3f}') # Printing MSE score\n",
    "print(f'\\nModel RMSE Score: {score_4:.3f}') # Printing RMSE score"
   ]
  },
  {
   "cell_type": "code",
   "execution_count": 227,
   "id": "d48bbe62",
   "metadata": {
    "scrolled": true
   },
   "outputs": [
    {
     "name": "stdout",
     "output_type": "stream",
     "text": [
      "\n",
      "Model R² Score: 0.521\n",
      "\n",
      "Model MAE Score: 0.590\n",
      "\n",
      "Model MSE Score: 0.623\n",
      "\n",
      "Model RMSE Score: 0.963\n"
     ]
    }
   ],
   "source": [
    "lr = Ridge(alpha=20) # Initializing the model\n",
    "lr.fit(x_train, y_train) # Fitting the model to the training data\n",
    "\n",
    "y_pred = lr.predict(x_test) # Predicting prices on the testing set\n",
    "score = r2_score(y_test, y_pred) # Measuring Model performance by comparing the predicted values to the actual values\n",
    "score_2 = mean_absolute_error(y_test, y_pred) \n",
    "score_3 = mean_squared_error(y_test, y_pred)\n",
    "\n",
    "print(f'\\nModel R² Score: {score:.3f}') # Printing R² score\n",
    "print(f'\\nModel MAE Score: {score_2:.3f}') # Printing R² score\n",
    "print(f'\\nModel MSE Score: {score_3:.3f}') # Printing MSE score\n",
    "print(f'\\nModel RMSE Score: {score_4:.3f}') # Printing RMSE score"
   ]
  },
  {
   "cell_type": "markdown",
   "id": "6e592c11",
   "metadata": {},
   "source": [
    "Валідація"
   ]
  },
  {
   "cell_type": "code",
   "execution_count": 272,
   "id": "e25859d1",
   "metadata": {},
   "outputs": [],
   "source": [
    "#розп на train, val\n",
    "X_train, X_val_train, Y_train, y_val_train = train_test_split(x_train, y_train, \n",
    "                                                    test_size=0.2, \n",
    "                                                    shuffle=True)"
   ]
  },
  {
   "cell_type": "code",
   "execution_count": 292,
   "id": "f40536c3",
   "metadata": {
    "scrolled": true
   },
   "outputs": [
    {
     "name": "stdout",
     "output_type": "stream",
     "text": [
      "\n",
      "Model R² Score: 0.503\n",
      "\n",
      "Model MAE Score: 0.602\n",
      "\n",
      "Model MSE Score: 0.643\n",
      "\n",
      "Model RMSE Score: 0.802\n"
     ]
    }
   ],
   "source": [
    "lr = Lasso(alpha=0.000001) # Initializing the model\n",
    "lr.fit(X_train, Y_train) # Fitting the model to the training data\n",
    "\n",
    "y_pred = lr.predict(X_val_train) # Predicting prices on the testing set\n",
    "score = r2_score(y_val_train, y_pred) # Measuring Model performance by comparing the predicted values to the actual values\n",
    "score_2 = mean_absolute_error(y_val_train, y_pred) \n",
    "score_3 = mean_squared_error(y_val_train, y_pred)\n",
    "score_4 = np.sqrt(mean_squared_error(y_val_train, y_pred))\n",
    "\n",
    "print(f'\\nModel R² Score: {score:.3f}') # Printing R² score\n",
    "print(f'\\nModel MAE Score: {score_2:.3f}') # Printing MAE score\n",
    "print(f'\\nModel MSE Score: {score_3:.3f}') # Printing MSE score\n",
    "print(f'\\nModel RMSE Score: {score_4:.3f}') # Printing RMSE score"
   ]
  },
  {
   "cell_type": "code",
   "execution_count": 280,
   "id": "816e8243",
   "metadata": {},
   "outputs": [
    {
     "name": "stdout",
     "output_type": "stream",
     "text": [
      "\n",
      "Model R² Score: 0.503\n",
      "\n",
      "Model MAE Score: 0.602\n",
      "\n",
      "Model MSE Score: 0.643\n",
      "\n",
      "Model RMSE Score: 0.802\n"
     ]
    }
   ],
   "source": [
    "lr = Ridge(alpha=0.000001) # Initializing the model\n",
    "lr.fit(X_train, Y_train) # Fitting the model to the training data\n",
    "\n",
    "y_pred = lr.predict(X_val_train) # Predicting prices on the testing set\n",
    "score = r2_score(y_val_train, y_pred) # Measuring Model performance by comparing the predicted values to the actual values\n",
    "score_2 = mean_absolute_error(y_val_train, y_pred) \n",
    "score_3 = mean_squared_error(y_val_train, y_pred)\n",
    "score_4 = np.sqrt(mean_squared_error(y_val_train, y_pred))\n",
    "\n",
    "print(f'\\nModel R² Score: {score:.3f}') # Printing R² score\n",
    "print(f'\\nModel MAE Score: {score_2:.3f}') # Printing R² score\n",
    "print(f'\\nModel MSE Score: {score_3:.3f}') # Printing MSE score\n",
    "print(f'\\nModel RMSE Score: {score_4:.3f}') # Printing RMSE score"
   ]
  },
  {
   "cell_type": "code",
   "execution_count": 276,
   "id": "dc566226",
   "metadata": {},
   "outputs": [],
   "source": [
    "#розп на test, val\n",
    "X_test, X_val_test, Y_test, y_val_test = train_test_split(x_test, y_test, \n",
    "                                                    test_size=0.2, \n",
    "                                                    shuffle=True)"
   ]
  },
  {
   "cell_type": "code",
   "execution_count": 289,
   "id": "13bb3bf4",
   "metadata": {},
   "outputs": [
    {
     "name": "stdout",
     "output_type": "stream",
     "text": [
      "\n",
      "Model R² Score: 0.367\n",
      "\n",
      "Model MAE Score: 0.577\n",
      "\n",
      "Model MSE Score: 0.836\n",
      "\n",
      "Model RMSE Score: 0.914\n"
     ]
    }
   ],
   "source": [
    "lr = Ridge(alpha=0.0001) # Initializing the model\n",
    "lr.fit(X_test, Y_test) # Fitting the model to the training data\n",
    "\n",
    "y_pred = lr.predict(X_val_test) # Predicting prices on the testing set\n",
    "score = r2_score(y_val_test, y_pred) # Measuring Model performance by comparing the predicted values to the actual values\n",
    "score_2 = mean_absolute_error(y_val_test, y_pred) \n",
    "score_3 = mean_squared_error(y_val_test, y_pred)\n",
    "score_4 = np.sqrt(mean_squared_error(y_val_test, y_pred))\n",
    "\n",
    "print(f'\\nModel R² Score: {score:.3f}') # Printing R² score\n",
    "print(f'\\nModel MAE Score: {score_2:.3f}') # Printing R² score\n",
    "print(f'\\nModel MSE Score: {score_3:.3f}') # Printing MSE score\n",
    "print(f'\\nModel RMSE Score: {score_4:.3f}') # Printing RMSE score"
   ]
  },
  {
   "cell_type": "code",
   "execution_count": 294,
   "id": "37fbbe51",
   "metadata": {},
   "outputs": [
    {
     "name": "stdout",
     "output_type": "stream",
     "text": [
      "\n",
      "Model R² Score: 0.370\n",
      "\n",
      "Model MAE Score: 0.577\n",
      "\n",
      "Model MSE Score: 0.832\n",
      "\n",
      "Model RMSE Score: 0.912\n"
     ]
    }
   ],
   "source": [
    "lr = Lasso(alpha=0.001) # Initializing the model\n",
    "lr.fit(X_test, Y_test) # Fitting the model to the training data\n",
    "\n",
    "y_pred = lr.predict(X_val_test) # Predicting prices on the testing set\n",
    "score = r2_score(y_val_test, y_pred) # Measuring Model performance by comparing the predicted values to the actual values\n",
    "score_2 = mean_absolute_error(y_val_test, y_pred) \n",
    "score_3 = mean_squared_error(y_val_test, y_pred)\n",
    "score_4 = np.sqrt(mean_squared_error(y_val_test, y_pred))\n",
    "\n",
    "print(f'\\nModel R² Score: {score:.3f}') # Printing R² score\n",
    "print(f'\\nModel MAE Score: {score_2:.3f}') # Printing MAE score\n",
    "print(f'\\nModel MSE Score: {score_3:.3f}') # Printing MSE score\n",
    "print(f'\\nModel RMSE Score: {score_4:.3f}') # Printing RMSE score"
   ]
  },
  {
   "cell_type": "code",
   "execution_count": null,
   "id": "eee1ab25",
   "metadata": {},
   "outputs": [],
   "source": []
  }
 ],
 "metadata": {
  "kernelspec": {
   "display_name": "Python 3 (ipykernel)",
   "language": "python",
   "name": "python3"
  },
  "language_info": {
   "codemirror_mode": {
    "name": "ipython",
    "version": 3
   },
   "file_extension": ".py",
   "mimetype": "text/x-python",
   "name": "python",
   "nbconvert_exporter": "python",
   "pygments_lexer": "ipython3",
   "version": "3.9.12"
  }
 },
 "nbformat": 4,
 "nbformat_minor": 5
}
